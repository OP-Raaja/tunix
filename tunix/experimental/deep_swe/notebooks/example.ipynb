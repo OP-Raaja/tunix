{
 "cells": [
  {
   "cell_type": "code",
   "execution_count": 1,
   "id": "8f1c5c6f",
   "metadata": {},
   "outputs": [],
   "source": [
    "%load_ext autoreload\n",
    "%autoreload 2"
   ]
  },
  {
   "cell_type": "code",
   "execution_count": 2,
   "id": "51203587",
   "metadata": {},
   "outputs": [],
   "source": [
    "!pip install -q kagglehub\n",
    "!pip install -q git+https://github.com/google/qwix\n",
    "!pip install -q grain\n",
    "!pip install -q tensorflow tensorflow-datasets\n",
    "!pip install -q gcsfs"
   ]
  },
  {
   "cell_type": "code",
   "execution_count": 3,
   "id": "0e0b59de",
   "metadata": {},
   "outputs": [
    {
     "name": "stderr",
     "output_type": "stream",
     "text": [
      "2025-07-31 05:05:01,469 - root - INFO - Could not import `wandb`. Logging to W&B not possible.\n"
     ]
    }
   ],
   "source": [
    "from kubernetes import client, config, watch\n",
    "from kubernetes.config import config_exception, kube_config\n",
    "from datasets import load_dataset\n",
    "from r2egym.agenthub.runtime.docker import DockerRuntime\n",
    "from r2egym.agenthub.utils.log import get_logger\n",
    "from dataclasses import asdict, dataclass, field\n",
    "from typing import Any\n",
    "import json\n",
    "import re\n",
    "import r2egym\n",
    "from r2egym.agenthub.environment.env import RepoEnv, EnvArgs\n",
    "from pprint import pprint\n",
    "from r2egym.agenthub.action import Action\n",
    "import os\n",
    "from transformers import AutoTokenizer\n",
    "from tunix.rl.rollout.vanilla_rollout import VanillaRollout\n",
    "import pathwaysutils\n",
    "import jax\n",
    "from pprint import pprint\n",
    "import kagglehub\n",
    "from tunix.models.qwen3 import model as model_lib\n",
    "from tunix.models.qwen3 import params as params_lib\n",
    "import optax\n",
    "from orbax import checkpoint as ocp\n",
    "from qwix import lora\n",
    "from flax import nnx\n",
    "import tempfile\n",
    "import jax.numpy as jnp\n",
    "from tunix.experimental.deep_swe.scripts.gemma2_parser import Gemma2ChatParser\n",
    "from tunix.generate import sampler as sampler_lib\n",
    "from tunix.models.gemma import data as data_lib\n",
    "from tunix.experimental.deep_swe.scripts.swe_agent import SWEAgent\n",
    "from tunix.experimental.deep_swe.scripts.swe_env import SWEEnv\n",
    "from tunix.experimental.deep_swe.scripts.chat_template import ChatTemplateParser\n",
    "import libtpu.sdk as sdk \n"
   ]
  },
  {
   "cell_type": "code",
   "execution_count": 4,
   "id": "e9a1cbb8",
   "metadata": {},
   "outputs": [
    {
     "name": "stdout",
     "output_type": "stream",
     "text": [
      "[TpuDevice(id=0, process_index=0, coords=(0,0,0), core_on_chip=0),\n",
      " TpuDevice(id=1, process_index=0, coords=(1,0,0), core_on_chip=0),\n",
      " TpuDevice(id=2, process_index=0, coords=(0,1,0), core_on_chip=0),\n",
      " TpuDevice(id=3, process_index=0, coords=(1,1,0), core_on_chip=0),\n",
      " TpuDevice(id=4, process_index=0, coords=(0,2,0), core_on_chip=0),\n",
      " TpuDevice(id=5, process_index=0, coords=(1,2,0), core_on_chip=0),\n",
      " TpuDevice(id=6, process_index=0, coords=(0,3,0), core_on_chip=0),\n",
      " TpuDevice(id=7, process_index=0, coords=(1,3,0), core_on_chip=0)]\n"
     ]
    }
   ],
   "source": [
    "# pathwaysutils.initialize()\n",
    "pprint(jax.devices())"
   ]
  },
  {
   "cell_type": "code",
   "execution_count": 5,
   "id": "aafa2011",
   "metadata": {},
   "outputs": [
    {
     "data": {
      "text/plain": [
       "['tensorcore_util',\n",
       " 'duty_cycle_pct',\n",
       " 'buffer_transfer_latency',\n",
       " 'hbm_capacity_total',\n",
       " 'hbm_capacity_usage',\n",
       " 'hlo_execution_timing',\n",
       " 'hlo_queue_size']"
      ]
     },
     "execution_count": 5,
     "metadata": {},
     "output_type": "execute_result"
    }
   ],
   "source": [
    "sdk.monitoring.list_supported_metrics()"
   ]
  },
  {
   "cell_type": "code",
   "execution_count": null,
   "id": "212672d7",
   "metadata": {},
   "outputs": [],
   "source": []
  },
  {
   "cell_type": "code",
   "execution_count": null,
   "id": "2ee0dc19",
   "metadata": {},
   "outputs": [],
   "source": [
    "def print_hbm_usage():\n",
    "    metric_hbm = sdk.monitoring.get_metric('hbm_capacity_total')\n",
    "    metric_hbm_usage = sdk.monitoring.get_metric('hbm_capacity_usage')\n",
    "    used = int(metric_hbm_usage.data()[0])\n",
    "    total = int(metric_hbm.data()[0])\n",
    "    print(f\"HBM Usage: {used / total * 100:.2f}%, Total: {total / 1024**3:.2f} GB, Used: {used / 1024**3:.2f} GB\")"
   ]
  },
  {
   "cell_type": "code",
   "execution_count": 24,
   "id": "15a87652",
   "metadata": {},
   "outputs": [
    {
     "name": "stdout",
     "output_type": "stream",
     "text": [
      "HBM Usage: 15.65%, Total: 31.25 GB, Used: 4.89 GB\n"
     ]
    }
   ],
   "source": [
    "print_hbm_usage()"
   ]
  },
  {
   "cell_type": "markdown",
   "id": "a4c54f7e",
   "metadata": {},
   "source": [
    "# Before start\n",
    "- Making sure that pw headless cluster port forwarding is set up, if not, check: tunix/experimental/deep_swe/docs/local_development_guide.md\n",
    "- Make sure kubeconfig environment is set up"
   ]
  },
  {
   "cell_type": "code",
   "execution_count": null,
   "id": "eaa3250d",
   "metadata": {},
   "outputs": [],
   "source": [
    "assert os.getenv('KUBECONFIG') is not None\n",
    "assert os.getenv('JAX_BACKEND_TARGET') is not None\n",
    "\n",
    "# assert os.getenv('JAX_PLATFORMS') is not None\n",
    "\n"
   ]
  },
  {
   "cell_type": "markdown",
   "id": "88fb04e9",
   "metadata": {},
   "source": [
    "# How to start k8s cluster and get kube config\n",
    "https://docs.google.com/document/d/1c6NOGa6N0HeFPFIcYXTMW9ldrndiYB38ciMMa5hE3TQ/edit?tab=t.0\n",
    "- create_cpu_cluster()\n",
    "- get_cpu_kubeconfig()\n",
    "\n",
    "**NOTE: with xpk, by default it returns ipv4 addresses in kubeconfig, wheras borg job running on ipv6 only environment. So I have to use VM jupyter notebook, as VM also runs on ipv4. Need to eiter start xpk with ipv6 or allow ipv4 for the borg job. They need to be consistent.**"
   ]
  },
  {
   "cell_type": "code",
   "execution_count": 11,
   "id": "ee9b5725",
   "metadata": {},
   "outputs": [
    {
     "name": "stdout",
     "output_type": "stream",
     "text": [
      "/mnt/disks/extra-disk/data\n"
     ]
    }
   ],
   "source": [
    "DATASET_CACHE = os.getenv('DATASET_CACHE', '/tmp/dataset_cache')\n",
    "print(DATASET_CACHE)\n",
    "TASKS_TO_PROCESS = 100"
   ]
  },
  {
   "cell_type": "code",
   "execution_count": 10,
   "id": "d49411ba",
   "metadata": {},
   "outputs": [],
   "source": [
    "config.load_kube_config()\n",
    "k8s_client = client.CoreV1Api()"
   ]
  },
  {
   "cell_type": "markdown",
   "id": "24ad938b",
   "metadata": {},
   "source": [
    "# Load dataset"
   ]
  },
  {
   "cell_type": "code",
   "execution_count": 12,
   "id": "b3a5bed7",
   "metadata": {},
   "outputs": [
    {
     "name": "stdout",
     "output_type": "stream",
     "text": [
      "Found 100 unique Docker images to download\n"
     ]
    }
   ],
   "source": [
    "dataset = load_dataset(\"R2E-Gym/R2E-Gym-V1\", split=\"train\", cache_dir=DATASET_CACHE, num_proc=32)\n",
    "entries = []\n",
    "unique_images = set()\n",
    "for i, entry in enumerate(dataset):\n",
    "  if \"docker_image\" in entry:\n",
    "    unique_images.add(entry[\"docker_image\"])\n",
    "    entries.append(entry)\n",
    "  if i >= TASKS_TO_PROCESS - 1:\n",
    "    break\n",
    "unique_images = list(unique_images)\n",
    "print(f\"Found {len(unique_images)} unique Docker images to download\")\n",
    "IDS = [f\"task-{i}\" for i in range(len(entries))]"
   ]
  },
  {
   "cell_type": "markdown",
   "id": "80640fc7",
   "metadata": {},
   "source": [
    "# Load model"
   ]
  },
  {
   "cell_type": "code",
   "execution_count": null,
   "id": "5f1fd5af",
   "metadata": {},
   "outputs": [],
   "source": [
    "# Log in\n",
    "if \"KAGGLE_USERNAME\" not in os.environ or \"KAGGLE_KEY\" not in os.environ:\n",
    "  kagglehub.login()"
   ]
  },
  {
   "cell_type": "code",
   "execution_count": 13,
   "id": "9dc301eb",
   "metadata": {},
   "outputs": [
    {
     "name": "stdout",
     "output_type": "stream",
     "text": [
      "/mnt/disks/extra-disk/cache/models/qwen-lm/qwen-3/transformers/14b/1\n"
     ]
    }
   ],
   "source": [
    "kaggle_ckpt_path = kagglehub.model_download(\"qwen-lm/qwen-3/transformers/14b\")\n",
    "print(kaggle_ckpt_path)"
   ]
  },
  {
   "cell_type": "code",
   "execution_count": 14,
   "id": "ae69d336",
   "metadata": {},
   "outputs": [
    {
     "name": "stderr",
     "output_type": "stream",
     "text": [
      "  0%|          | 0/8 [00:00<?, ?it/s]"
     ]
    },
    {
     "name": "stderr",
     "output_type": "stream",
     "text": [
      "100%|██████████| 8/8 [00:07<00:00,  1.05it/s]\n",
      "100%|██████████| 443/443 [00:07<00:00, 61.32it/s]\n"
     ]
    },
    {
     "name": "stdout",
     "output_type": "stream",
     "text": [
      "Sharding: {'embedder': {'input_embedding': NamedSharding(mesh=Mesh('fsdp': 2, 'tp': 4, axis_types=(Auto, Auto)), spec=PartitionSpec('tp', 'fsdp'), memory_kind=device)}, 'final_norm': {'w': NamedSharding(mesh=Mesh('fsdp': 2, 'tp': 4, axis_types=(Auto, Auto)), spec=PartitionSpec('tp',), memory_kind=device)}, 'layers': {0: {'attn': {'k_norm': {'w': NamedSharding(mesh=Mesh('fsdp': 2, 'tp': 4, axis_types=(Auto, Auto)), spec=PartitionSpec('tp',), memory_kind=device)}, 'k_proj': {'w': NamedSharding(mesh=Mesh('fsdp': 2, 'tp': 4, axis_types=(Auto, Auto)), spec=PartitionSpec('tp', 'fsdp', None), memory_kind=device)}, 'o_proj': {'w': NamedSharding(mesh=Mesh('fsdp': 2, 'tp': 4, axis_types=(Auto, Auto)), spec=PartitionSpec('tp', None, 'fsdp'), memory_kind=device)}, 'q_norm': {'w': NamedSharding(mesh=Mesh('fsdp': 2, 'tp': 4, axis_types=(Auto, Auto)), spec=PartitionSpec('tp',), memory_kind=device)}, 'q_proj': {'w': NamedSharding(mesh=Mesh('fsdp': 2, 'tp': 4, axis_types=(Auto, Auto)), spec=PartitionSpec('tp', 'fsdp', None), memory_kind=device)}, 'v_proj': {'w': NamedSharding(mesh=Mesh('fsdp': 2, 'tp': 4, axis_types=(Auto, Auto)), spec=PartitionSpec('tp', 'fsdp', None), memory_kind=device)}}, 'input_layernorm': {'w': NamedSharding(mesh=Mesh('fsdp': 2, 'tp': 4, axis_types=(Auto, Auto)), spec=PartitionSpec('tp',), memory_kind=device)}, 'mlp': {'down_proj': {'kernel': NamedSharding(mesh=Mesh('fsdp': 2, 'tp': 4, axis_types=(Auto, Auto)), spec=PartitionSpec('tp', 'fsdp'), memory_kind=device)}, 'gate_proj': {'kernel': NamedSharding(mesh=Mesh('fsdp': 2, 'tp': 4, axis_types=(Auto, Auto)), spec=PartitionSpec('fsdp', 'tp'), memory_kind=device)}, 'up_proj': {'kernel': NamedSharding(mesh=Mesh('fsdp': 2, 'tp': 4, axis_types=(Auto, Auto)), spec=PartitionSpec('fsdp', 'tp'), memory_kind=device)}}, 'post_attention_layernorm': {'w': NamedSharding(mesh=Mesh('fsdp': 2, 'tp': 4, axis_types=(Auto, Auto)), spec=PartitionSpec('tp',), memory_kind=device)}}, 1: {'attn': {'k_norm': {'w': NamedSharding(mesh=Mesh('fsdp': 2, 'tp': 4, axis_types=(Auto, Auto)), spec=PartitionSpec('tp',), memory_kind=device)}, 'k_proj': {'w': NamedSharding(mesh=Mesh('fsdp': 2, 'tp': 4, axis_types=(Auto, Auto)), spec=PartitionSpec('tp', 'fsdp', None), memory_kind=device)}, 'o_proj': {'w': NamedSharding(mesh=Mesh('fsdp': 2, 'tp': 4, axis_types=(Auto, Auto)), spec=PartitionSpec('tp', None, 'fsdp'), memory_kind=device)}, 'q_norm': {'w': NamedSharding(mesh=Mesh('fsdp': 2, 'tp': 4, axis_types=(Auto, Auto)), spec=PartitionSpec('tp',), memory_kind=device)}, 'q_proj': {'w': NamedSharding(mesh=Mesh('fsdp': 2, 'tp': 4, axis_types=(Auto, Auto)), spec=PartitionSpec('tp', 'fsdp', None), memory_kind=device)}, 'v_proj': {'w': NamedSharding(mesh=Mesh('fsdp': 2, 'tp': 4, axis_types=(Auto, Auto)), spec=PartitionSpec('tp', 'fsdp', None), memory_kind=device)}}, 'input_layernorm': {'w': NamedSharding(mesh=Mesh('fsdp': 2, 'tp': 4, axis_types=(Auto, Auto)), spec=PartitionSpec('tp',), memory_kind=device)}, 'mlp': {'down_proj': {'kernel': NamedSharding(mesh=Mesh('fsdp': 2, 'tp': 4, axis_types=(Auto, Auto)), spec=PartitionSpec('tp', 'fsdp'), memory_kind=device)}, 'gate_proj': {'kernel': NamedSharding(mesh=Mesh('fsdp': 2, 'tp': 4, axis_types=(Auto, Auto)), spec=PartitionSpec('fsdp', 'tp'), memory_kind=device)}, 'up_proj': {'kernel': NamedSharding(mesh=Mesh('fsdp': 2, 'tp': 4, axis_types=(Auto, Auto)), spec=PartitionSpec('fsdp', 'tp'), memory_kind=device)}}, 'post_attention_layernorm': {'w': NamedSharding(mesh=Mesh('fsdp': 2, 'tp': 4, axis_types=(Auto, Auto)), spec=PartitionSpec('tp',), memory_kind=device)}}, 2: {'attn': {'k_norm': {'w': NamedSharding(mesh=Mesh('fsdp': 2, 'tp': 4, axis_types=(Auto, Auto)), spec=PartitionSpec('tp',), memory_kind=device)}, 'k_proj': {'w': NamedSharding(mesh=Mesh('fsdp': 2, 'tp': 4, axis_types=(Auto, Auto)), spec=PartitionSpec('tp', 'fsdp', None), memory_kind=device)}, 'o_proj': {'w': NamedSharding(mesh=Mesh('fsdp': 2, 'tp': 4, axis_types=(Auto, Auto)), spec=PartitionSpec('tp', None, 'fsdp'), memory_kind=device)}, 'q_norm': {'w': NamedSharding(mesh=Mesh('fsdp': 2, 'tp': 4, axis_types=(Auto, Auto)), spec=PartitionSpec('tp',), memory_kind=device)}, 'q_proj': {'w': NamedSharding(mesh=Mesh('fsdp': 2, 'tp': 4, axis_types=(Auto, Auto)), spec=PartitionSpec('tp', 'fsdp', None), memory_kind=device)}, 'v_proj': {'w': NamedSharding(mesh=Mesh('fsdp': 2, 'tp': 4, axis_types=(Auto, Auto)), spec=PartitionSpec('tp', 'fsdp', None), memory_kind=device)}}, 'input_layernorm': {'w': NamedSharding(mesh=Mesh('fsdp': 2, 'tp': 4, axis_types=(Auto, Auto)), spec=PartitionSpec('tp',), memory_kind=device)}, 'mlp': {'down_proj': {'kernel': NamedSharding(mesh=Mesh('fsdp': 2, 'tp': 4, axis_types=(Auto, Auto)), spec=PartitionSpec('tp', 'fsdp'), memory_kind=device)}, 'gate_proj': {'kernel': NamedSharding(mesh=Mesh('fsdp': 2, 'tp': 4, axis_types=(Auto, Auto)), spec=PartitionSpec('fsdp', 'tp'), memory_kind=device)}, 'up_proj': {'kernel': NamedSharding(mesh=Mesh('fsdp': 2, 'tp': 4, axis_types=(Auto, Auto)), spec=PartitionSpec('fsdp', 'tp'), memory_kind=device)}}, 'post_attention_layernorm': {'w': NamedSharding(mesh=Mesh('fsdp': 2, 'tp': 4, axis_types=(Auto, Auto)), spec=PartitionSpec('tp',), memory_kind=device)}}, 3: {'attn': {'k_norm': {'w': NamedSharding(mesh=Mesh('fsdp': 2, 'tp': 4, axis_types=(Auto, Auto)), spec=PartitionSpec('tp',), memory_kind=device)}, 'k_proj': {'w': NamedSharding(mesh=Mesh('fsdp': 2, 'tp': 4, axis_types=(Auto, Auto)), spec=PartitionSpec('tp', 'fsdp', None), memory_kind=device)}, 'o_proj': {'w': NamedSharding(mesh=Mesh('fsdp': 2, 'tp': 4, axis_types=(Auto, Auto)), spec=PartitionSpec('tp', None, 'fsdp'), memory_kind=device)}, 'q_norm': {'w': NamedSharding(mesh=Mesh('fsdp': 2, 'tp': 4, axis_types=(Auto, Auto)), spec=PartitionSpec('tp',), memory_kind=device)}, 'q_proj': {'w': NamedSharding(mesh=Mesh('fsdp': 2, 'tp': 4, axis_types=(Auto, Auto)), spec=PartitionSpec('tp', 'fsdp', None), memory_kind=device)}, 'v_proj': {'w': NamedSharding(mesh=Mesh('fsdp': 2, 'tp': 4, axis_types=(Auto, Auto)), spec=PartitionSpec('tp', 'fsdp', None), memory_kind=device)}}, 'input_layernorm': {'w': NamedSharding(mesh=Mesh('fsdp': 2, 'tp': 4, axis_types=(Auto, Auto)), spec=PartitionSpec('tp',), memory_kind=device)}, 'mlp': {'down_proj': {'kernel': NamedSharding(mesh=Mesh('fsdp': 2, 'tp': 4, axis_types=(Auto, Auto)), spec=PartitionSpec('tp', 'fsdp'), memory_kind=device)}, 'gate_proj': {'kernel': NamedSharding(mesh=Mesh('fsdp': 2, 'tp': 4, axis_types=(Auto, Auto)), spec=PartitionSpec('fsdp', 'tp'), memory_kind=device)}, 'up_proj': {'kernel': NamedSharding(mesh=Mesh('fsdp': 2, 'tp': 4, axis_types=(Auto, Auto)), spec=PartitionSpec('fsdp', 'tp'), memory_kind=device)}}, 'post_attention_layernorm': {'w': NamedSharding(mesh=Mesh('fsdp': 2, 'tp': 4, axis_types=(Auto, Auto)), spec=PartitionSpec('tp',), memory_kind=device)}}, 4: {'attn': {'k_norm': {'w': NamedSharding(mesh=Mesh('fsdp': 2, 'tp': 4, axis_types=(Auto, Auto)), spec=PartitionSpec('tp',), memory_kind=device)}, 'k_proj': {'w': NamedSharding(mesh=Mesh('fsdp': 2, 'tp': 4, axis_types=(Auto, Auto)), spec=PartitionSpec('tp', 'fsdp', None), memory_kind=device)}, 'o_proj': {'w': NamedSharding(mesh=Mesh('fsdp': 2, 'tp': 4, axis_types=(Auto, Auto)), spec=PartitionSpec('tp', None, 'fsdp'), memory_kind=device)}, 'q_norm': {'w': NamedSharding(mesh=Mesh('fsdp': 2, 'tp': 4, axis_types=(Auto, Auto)), spec=PartitionSpec('tp',), memory_kind=device)}, 'q_proj': {'w': NamedSharding(mesh=Mesh('fsdp': 2, 'tp': 4, axis_types=(Auto, Auto)), spec=PartitionSpec('tp', 'fsdp', None), memory_kind=device)}, 'v_proj': {'w': NamedSharding(mesh=Mesh('fsdp': 2, 'tp': 4, axis_types=(Auto, Auto)), spec=PartitionSpec('tp', 'fsdp', None), memory_kind=device)}}, 'input_layernorm': {'w': NamedSharding(mesh=Mesh('fsdp': 2, 'tp': 4, axis_types=(Auto, Auto)), spec=PartitionSpec('tp',), memory_kind=device)}, 'mlp': {'down_proj': {'kernel': NamedSharding(mesh=Mesh('fsdp': 2, 'tp': 4, axis_types=(Auto, Auto)), spec=PartitionSpec('tp', 'fsdp'), memory_kind=device)}, 'gate_proj': {'kernel': NamedSharding(mesh=Mesh('fsdp': 2, 'tp': 4, axis_types=(Auto, Auto)), spec=PartitionSpec('fsdp', 'tp'), memory_kind=device)}, 'up_proj': {'kernel': NamedSharding(mesh=Mesh('fsdp': 2, 'tp': 4, axis_types=(Auto, Auto)), spec=PartitionSpec('fsdp', 'tp'), memory_kind=device)}}, 'post_attention_layernorm': {'w': NamedSharding(mesh=Mesh('fsdp': 2, 'tp': 4, axis_types=(Auto, Auto)), spec=PartitionSpec('tp',), memory_kind=device)}}, 5: {'attn': {'k_norm': {'w': NamedSharding(mesh=Mesh('fsdp': 2, 'tp': 4, axis_types=(Auto, Auto)), spec=PartitionSpec('tp',), memory_kind=device)}, 'k_proj': {'w': NamedSharding(mesh=Mesh('fsdp': 2, 'tp': 4, axis_types=(Auto, Auto)), spec=PartitionSpec('tp', 'fsdp', None), memory_kind=device)}, 'o_proj': {'w': NamedSharding(mesh=Mesh('fsdp': 2, 'tp': 4, axis_types=(Auto, Auto)), spec=PartitionSpec('tp', None, 'fsdp'), memory_kind=device)}, 'q_norm': {'w': NamedSharding(mesh=Mesh('fsdp': 2, 'tp': 4, axis_types=(Auto, Auto)), spec=PartitionSpec('tp',), memory_kind=device)}, 'q_proj': {'w': NamedSharding(mesh=Mesh('fsdp': 2, 'tp': 4, axis_types=(Auto, Auto)), spec=PartitionSpec('tp', 'fsdp', None), memory_kind=device)}, 'v_proj': {'w': NamedSharding(mesh=Mesh('fsdp': 2, 'tp': 4, axis_types=(Auto, Auto)), spec=PartitionSpec('tp', 'fsdp', None), memory_kind=device)}}, 'input_layernorm': {'w': NamedSharding(mesh=Mesh('fsdp': 2, 'tp': 4, axis_types=(Auto, Auto)), spec=PartitionSpec('tp',), memory_kind=device)}, 'mlp': {'down_proj': {'kernel': NamedSharding(mesh=Mesh('fsdp': 2, 'tp': 4, axis_types=(Auto, Auto)), spec=PartitionSpec('tp', 'fsdp'), memory_kind=device)}, 'gate_proj': {'kernel': NamedSharding(mesh=Mesh('fsdp': 2, 'tp': 4, axis_types=(Auto, Auto)), spec=PartitionSpec('fsdp', 'tp'), memory_kind=device)}, 'up_proj': {'kernel': NamedSharding(mesh=Mesh('fsdp': 2, 'tp': 4, axis_types=(Auto, Auto)), spec=PartitionSpec('fsdp', 'tp'), memory_kind=device)}}, 'post_attention_layernorm': {'w': NamedSharding(mesh=Mesh('fsdp': 2, 'tp': 4, axis_types=(Auto, Auto)), spec=PartitionSpec('tp',), memory_kind=device)}}, 6: {'attn': {'k_norm': {'w': NamedSharding(mesh=Mesh('fsdp': 2, 'tp': 4, axis_types=(Auto, Auto)), spec=PartitionSpec('tp',), memory_kind=device)}, 'k_proj': {'w': NamedSharding(mesh=Mesh('fsdp': 2, 'tp': 4, axis_types=(Auto, Auto)), spec=PartitionSpec('tp', 'fsdp', None), memory_kind=device)}, 'o_proj': {'w': NamedSharding(mesh=Mesh('fsdp': 2, 'tp': 4, axis_types=(Auto, Auto)), spec=PartitionSpec('tp', None, 'fsdp'), memory_kind=device)}, 'q_norm': {'w': NamedSharding(mesh=Mesh('fsdp': 2, 'tp': 4, axis_types=(Auto, Auto)), spec=PartitionSpec('tp',), memory_kind=device)}, 'q_proj': {'w': NamedSharding(mesh=Mesh('fsdp': 2, 'tp': 4, axis_types=(Auto, Auto)), spec=PartitionSpec('tp', 'fsdp', None), memory_kind=device)}, 'v_proj': {'w': NamedSharding(mesh=Mesh('fsdp': 2, 'tp': 4, axis_types=(Auto, Auto)), spec=PartitionSpec('tp', 'fsdp', None), memory_kind=device)}}, 'input_layernorm': {'w': NamedSharding(mesh=Mesh('fsdp': 2, 'tp': 4, axis_types=(Auto, Auto)), spec=PartitionSpec('tp',), memory_kind=device)}, 'mlp': {'down_proj': {'kernel': NamedSharding(mesh=Mesh('fsdp': 2, 'tp': 4, axis_types=(Auto, Auto)), spec=PartitionSpec('tp', 'fsdp'), memory_kind=device)}, 'gate_proj': {'kernel': NamedSharding(mesh=Mesh('fsdp': 2, 'tp': 4, axis_types=(Auto, Auto)), spec=PartitionSpec('fsdp', 'tp'), memory_kind=device)}, 'up_proj': {'kernel': NamedSharding(mesh=Mesh('fsdp': 2, 'tp': 4, axis_types=(Auto, Auto)), spec=PartitionSpec('fsdp', 'tp'), memory_kind=device)}}, 'post_attention_layernorm': {'w': NamedSharding(mesh=Mesh('fsdp': 2, 'tp': 4, axis_types=(Auto, Auto)), spec=PartitionSpec('tp',), memory_kind=device)}}, 7: {'attn': {'k_norm': {'w': NamedSharding(mesh=Mesh('fsdp': 2, 'tp': 4, axis_types=(Auto, Auto)), spec=PartitionSpec('tp',), memory_kind=device)}, 'k_proj': {'w': NamedSharding(mesh=Mesh('fsdp': 2, 'tp': 4, axis_types=(Auto, Auto)), spec=PartitionSpec('tp', 'fsdp', None), memory_kind=device)}, 'o_proj': {'w': NamedSharding(mesh=Mesh('fsdp': 2, 'tp': 4, axis_types=(Auto, Auto)), spec=PartitionSpec('tp', None, 'fsdp'), memory_kind=device)}, 'q_norm': {'w': NamedSharding(mesh=Mesh('fsdp': 2, 'tp': 4, axis_types=(Auto, Auto)), spec=PartitionSpec('tp',), memory_kind=device)}, 'q_proj': {'w': NamedSharding(mesh=Mesh('fsdp': 2, 'tp': 4, axis_types=(Auto, Auto)), spec=PartitionSpec('tp', 'fsdp', None), memory_kind=device)}, 'v_proj': {'w': NamedSharding(mesh=Mesh('fsdp': 2, 'tp': 4, axis_types=(Auto, Auto)), spec=PartitionSpec('tp', 'fsdp', None), memory_kind=device)}}, 'input_layernorm': {'w': NamedSharding(mesh=Mesh('fsdp': 2, 'tp': 4, axis_types=(Auto, Auto)), spec=PartitionSpec('tp',), memory_kind=device)}, 'mlp': {'down_proj': {'kernel': NamedSharding(mesh=Mesh('fsdp': 2, 'tp': 4, axis_types=(Auto, Auto)), spec=PartitionSpec('tp', 'fsdp'), memory_kind=device)}, 'gate_proj': {'kernel': NamedSharding(mesh=Mesh('fsdp': 2, 'tp': 4, axis_types=(Auto, Auto)), spec=PartitionSpec('fsdp', 'tp'), memory_kind=device)}, 'up_proj': {'kernel': NamedSharding(mesh=Mesh('fsdp': 2, 'tp': 4, axis_types=(Auto, Auto)), spec=PartitionSpec('fsdp', 'tp'), memory_kind=device)}}, 'post_attention_layernorm': {'w': NamedSharding(mesh=Mesh('fsdp': 2, 'tp': 4, axis_types=(Auto, Auto)), spec=PartitionSpec('tp',), memory_kind=device)}}, 8: {'attn': {'k_norm': {'w': NamedSharding(mesh=Mesh('fsdp': 2, 'tp': 4, axis_types=(Auto, Auto)), spec=PartitionSpec('tp',), memory_kind=device)}, 'k_proj': {'w': NamedSharding(mesh=Mesh('fsdp': 2, 'tp': 4, axis_types=(Auto, Auto)), spec=PartitionSpec('tp', 'fsdp', None), memory_kind=device)}, 'o_proj': {'w': NamedSharding(mesh=Mesh('fsdp': 2, 'tp': 4, axis_types=(Auto, Auto)), spec=PartitionSpec('tp', None, 'fsdp'), memory_kind=device)}, 'q_norm': {'w': NamedSharding(mesh=Mesh('fsdp': 2, 'tp': 4, axis_types=(Auto, Auto)), spec=PartitionSpec('tp',), memory_kind=device)}, 'q_proj': {'w': NamedSharding(mesh=Mesh('fsdp': 2, 'tp': 4, axis_types=(Auto, Auto)), spec=PartitionSpec('tp', 'fsdp', None), memory_kind=device)}, 'v_proj': {'w': NamedSharding(mesh=Mesh('fsdp': 2, 'tp': 4, axis_types=(Auto, Auto)), spec=PartitionSpec('tp', 'fsdp', None), memory_kind=device)}}, 'input_layernorm': {'w': NamedSharding(mesh=Mesh('fsdp': 2, 'tp': 4, axis_types=(Auto, Auto)), spec=PartitionSpec('tp',), memory_kind=device)}, 'mlp': {'down_proj': {'kernel': NamedSharding(mesh=Mesh('fsdp': 2, 'tp': 4, axis_types=(Auto, Auto)), spec=PartitionSpec('tp', 'fsdp'), memory_kind=device)}, 'gate_proj': {'kernel': NamedSharding(mesh=Mesh('fsdp': 2, 'tp': 4, axis_types=(Auto, Auto)), spec=PartitionSpec('fsdp', 'tp'), memory_kind=device)}, 'up_proj': {'kernel': NamedSharding(mesh=Mesh('fsdp': 2, 'tp': 4, axis_types=(Auto, Auto)), spec=PartitionSpec('fsdp', 'tp'), memory_kind=device)}}, 'post_attention_layernorm': {'w': NamedSharding(mesh=Mesh('fsdp': 2, 'tp': 4, axis_types=(Auto, Auto)), spec=PartitionSpec('tp',), memory_kind=device)}}, 9: {'attn': {'k_norm': {'w': NamedSharding(mesh=Mesh('fsdp': 2, 'tp': 4, axis_types=(Auto, Auto)), spec=PartitionSpec('tp',), memory_kind=device)}, 'k_proj': {'w': NamedSharding(mesh=Mesh('fsdp': 2, 'tp': 4, axis_types=(Auto, Auto)), spec=PartitionSpec('tp', 'fsdp', None), memory_kind=device)}, 'o_proj': {'w': NamedSharding(mesh=Mesh('fsdp': 2, 'tp': 4, axis_types=(Auto, Auto)), spec=PartitionSpec('tp', None, 'fsdp'), memory_kind=device)}, 'q_norm': {'w': NamedSharding(mesh=Mesh('fsdp': 2, 'tp': 4, axis_types=(Auto, Auto)), spec=PartitionSpec('tp',), memory_kind=device)}, 'q_proj': {'w': NamedSharding(mesh=Mesh('fsdp': 2, 'tp': 4, axis_types=(Auto, Auto)), spec=PartitionSpec('tp', 'fsdp', None), memory_kind=device)}, 'v_proj': {'w': NamedSharding(mesh=Mesh('fsdp': 2, 'tp': 4, axis_types=(Auto, Auto)), spec=PartitionSpec('tp', 'fsdp', None), memory_kind=device)}}, 'input_layernorm': {'w': NamedSharding(mesh=Mesh('fsdp': 2, 'tp': 4, axis_types=(Auto, Auto)), spec=PartitionSpec('tp',), memory_kind=device)}, 'mlp': {'down_proj': {'kernel': NamedSharding(mesh=Mesh('fsdp': 2, 'tp': 4, axis_types=(Auto, Auto)), spec=PartitionSpec('tp', 'fsdp'), memory_kind=device)}, 'gate_proj': {'kernel': NamedSharding(mesh=Mesh('fsdp': 2, 'tp': 4, axis_types=(Auto, Auto)), spec=PartitionSpec('fsdp', 'tp'), memory_kind=device)}, 'up_proj': {'kernel': NamedSharding(mesh=Mesh('fsdp': 2, 'tp': 4, axis_types=(Auto, Auto)), spec=PartitionSpec('fsdp', 'tp'), memory_kind=device)}}, 'post_attention_layernorm': {'w': NamedSharding(mesh=Mesh('fsdp': 2, 'tp': 4, axis_types=(Auto, Auto)), spec=PartitionSpec('tp',), memory_kind=device)}}, 10: {'attn': {'k_norm': {'w': NamedSharding(mesh=Mesh('fsdp': 2, 'tp': 4, axis_types=(Auto, Auto)), spec=PartitionSpec('tp',), memory_kind=device)}, 'k_proj': {'w': NamedSharding(mesh=Mesh('fsdp': 2, 'tp': 4, axis_types=(Auto, Auto)), spec=PartitionSpec('tp', 'fsdp', None), memory_kind=device)}, 'o_proj': {'w': NamedSharding(mesh=Mesh('fsdp': 2, 'tp': 4, axis_types=(Auto, Auto)), spec=PartitionSpec('tp', None, 'fsdp'), memory_kind=device)}, 'q_norm': {'w': NamedSharding(mesh=Mesh('fsdp': 2, 'tp': 4, axis_types=(Auto, Auto)), spec=PartitionSpec('tp',), memory_kind=device)}, 'q_proj': {'w': NamedSharding(mesh=Mesh('fsdp': 2, 'tp': 4, axis_types=(Auto, Auto)), spec=PartitionSpec('tp', 'fsdp', None), memory_kind=device)}, 'v_proj': {'w': NamedSharding(mesh=Mesh('fsdp': 2, 'tp': 4, axis_types=(Auto, Auto)), spec=PartitionSpec('tp', 'fsdp', None), memory_kind=device)}}, 'input_layernorm': {'w': NamedSharding(mesh=Mesh('fsdp': 2, 'tp': 4, axis_types=(Auto, Auto)), spec=PartitionSpec('tp',), memory_kind=device)}, 'mlp': {'down_proj': {'kernel': NamedSharding(mesh=Mesh('fsdp': 2, 'tp': 4, axis_types=(Auto, Auto)), spec=PartitionSpec('tp', 'fsdp'), memory_kind=device)}, 'gate_proj': {'kernel': NamedSharding(mesh=Mesh('fsdp': 2, 'tp': 4, axis_types=(Auto, Auto)), spec=PartitionSpec('fsdp', 'tp'), memory_kind=device)}, 'up_proj': {'kernel': NamedSharding(mesh=Mesh('fsdp': 2, 'tp': 4, axis_types=(Auto, Auto)), spec=PartitionSpec('fsdp', 'tp'), memory_kind=device)}}, 'post_attention_layernorm': {'w': NamedSharding(mesh=Mesh('fsdp': 2, 'tp': 4, axis_types=(Auto, Auto)), spec=PartitionSpec('tp',), memory_kind=device)}}, 11: {'attn': {'k_norm': {'w': NamedSharding(mesh=Mesh('fsdp': 2, 'tp': 4, axis_types=(Auto, Auto)), spec=PartitionSpec('tp',), memory_kind=device)}, 'k_proj': {'w': NamedSharding(mesh=Mesh('fsdp': 2, 'tp': 4, axis_types=(Auto, Auto)), spec=PartitionSpec('tp', 'fsdp', None), memory_kind=device)}, 'o_proj': {'w': NamedSharding(mesh=Mesh('fsdp': 2, 'tp': 4, axis_types=(Auto, Auto)), spec=PartitionSpec('tp', None, 'fsdp'), memory_kind=device)}, 'q_norm': {'w': NamedSharding(mesh=Mesh('fsdp': 2, 'tp': 4, axis_types=(Auto, Auto)), spec=PartitionSpec('tp',), memory_kind=device)}, 'q_proj': {'w': NamedSharding(mesh=Mesh('fsdp': 2, 'tp': 4, axis_types=(Auto, Auto)), spec=PartitionSpec('tp', 'fsdp', None), memory_kind=device)}, 'v_proj': {'w': NamedSharding(mesh=Mesh('fsdp': 2, 'tp': 4, axis_types=(Auto, Auto)), spec=PartitionSpec('tp', 'fsdp', None), memory_kind=device)}}, 'input_layernorm': {'w': NamedSharding(mesh=Mesh('fsdp': 2, 'tp': 4, axis_types=(Auto, Auto)), spec=PartitionSpec('tp',), memory_kind=device)}, 'mlp': {'down_proj': {'kernel': NamedSharding(mesh=Mesh('fsdp': 2, 'tp': 4, axis_types=(Auto, Auto)), spec=PartitionSpec('tp', 'fsdp'), memory_kind=device)}, 'gate_proj': {'kernel': NamedSharding(mesh=Mesh('fsdp': 2, 'tp': 4, axis_types=(Auto, Auto)), spec=PartitionSpec('fsdp', 'tp'), memory_kind=device)}, 'up_proj': {'kernel': NamedSharding(mesh=Mesh('fsdp': 2, 'tp': 4, axis_types=(Auto, Auto)), spec=PartitionSpec('fsdp', 'tp'), memory_kind=device)}}, 'post_attention_layernorm': {'w': NamedSharding(mesh=Mesh('fsdp': 2, 'tp': 4, axis_types=(Auto, Auto)), spec=PartitionSpec('tp',), memory_kind=device)}}, 12: {'attn': {'k_norm': {'w': NamedSharding(mesh=Mesh('fsdp': 2, 'tp': 4, axis_types=(Auto, Auto)), spec=PartitionSpec('tp',), memory_kind=device)}, 'k_proj': {'w': NamedSharding(mesh=Mesh('fsdp': 2, 'tp': 4, axis_types=(Auto, Auto)), spec=PartitionSpec('tp', 'fsdp', None), memory_kind=device)}, 'o_proj': {'w': NamedSharding(mesh=Mesh('fsdp': 2, 'tp': 4, axis_types=(Auto, Auto)), spec=PartitionSpec('tp', None, 'fsdp'), memory_kind=device)}, 'q_norm': {'w': NamedSharding(mesh=Mesh('fsdp': 2, 'tp': 4, axis_types=(Auto, Auto)), spec=PartitionSpec('tp',), memory_kind=device)}, 'q_proj': {'w': NamedSharding(mesh=Mesh('fsdp': 2, 'tp': 4, axis_types=(Auto, Auto)), spec=PartitionSpec('tp', 'fsdp', None), memory_kind=device)}, 'v_proj': {'w': NamedSharding(mesh=Mesh('fsdp': 2, 'tp': 4, axis_types=(Auto, Auto)), spec=PartitionSpec('tp', 'fsdp', None), memory_kind=device)}}, 'input_layernorm': {'w': NamedSharding(mesh=Mesh('fsdp': 2, 'tp': 4, axis_types=(Auto, Auto)), spec=PartitionSpec('tp',), memory_kind=device)}, 'mlp': {'down_proj': {'kernel': NamedSharding(mesh=Mesh('fsdp': 2, 'tp': 4, axis_types=(Auto, Auto)), spec=PartitionSpec('tp', 'fsdp'), memory_kind=device)}, 'gate_proj': {'kernel': NamedSharding(mesh=Mesh('fsdp': 2, 'tp': 4, axis_types=(Auto, Auto)), spec=PartitionSpec('fsdp', 'tp'), memory_kind=device)}, 'up_proj': {'kernel': NamedSharding(mesh=Mesh('fsdp': 2, 'tp': 4, axis_types=(Auto, Auto)), spec=PartitionSpec('fsdp', 'tp'), memory_kind=device)}}, 'post_attention_layernorm': {'w': NamedSharding(mesh=Mesh('fsdp': 2, 'tp': 4, axis_types=(Auto, Auto)), spec=PartitionSpec('tp',), memory_kind=device)}}, 13: {'attn': {'k_norm': {'w': NamedSharding(mesh=Mesh('fsdp': 2, 'tp': 4, axis_types=(Auto, Auto)), spec=PartitionSpec('tp',), memory_kind=device)}, 'k_proj': {'w': NamedSharding(mesh=Mesh('fsdp': 2, 'tp': 4, axis_types=(Auto, Auto)), spec=PartitionSpec('tp', 'fsdp', None), memory_kind=device)}, 'o_proj': {'w': NamedSharding(mesh=Mesh('fsdp': 2, 'tp': 4, axis_types=(Auto, Auto)), spec=PartitionSpec('tp', None, 'fsdp'), memory_kind=device)}, 'q_norm': {'w': NamedSharding(mesh=Mesh('fsdp': 2, 'tp': 4, axis_types=(Auto, Auto)), spec=PartitionSpec('tp',), memory_kind=device)}, 'q_proj': {'w': NamedSharding(mesh=Mesh('fsdp': 2, 'tp': 4, axis_types=(Auto, Auto)), spec=PartitionSpec('tp', 'fsdp', None), memory_kind=device)}, 'v_proj': {'w': NamedSharding(mesh=Mesh('fsdp': 2, 'tp': 4, axis_types=(Auto, Auto)), spec=PartitionSpec('tp', 'fsdp', None), memory_kind=device)}}, 'input_layernorm': {'w': NamedSharding(mesh=Mesh('fsdp': 2, 'tp': 4, axis_types=(Auto, Auto)), spec=PartitionSpec('tp',), memory_kind=device)}, 'mlp': {'down_proj': {'kernel': NamedSharding(mesh=Mesh('fsdp': 2, 'tp': 4, axis_types=(Auto, Auto)), spec=PartitionSpec('tp', 'fsdp'), memory_kind=device)}, 'gate_proj': {'kernel': NamedSharding(mesh=Mesh('fsdp': 2, 'tp': 4, axis_types=(Auto, Auto)), spec=PartitionSpec('fsdp', 'tp'), memory_kind=device)}, 'up_proj': {'kernel': NamedSharding(mesh=Mesh('fsdp': 2, 'tp': 4, axis_types=(Auto, Auto)), spec=PartitionSpec('fsdp', 'tp'), memory_kind=device)}}, 'post_attention_layernorm': {'w': NamedSharding(mesh=Mesh('fsdp': 2, 'tp': 4, axis_types=(Auto, Auto)), spec=PartitionSpec('tp',), memory_kind=device)}}, 14: {'attn': {'k_norm': {'w': NamedSharding(mesh=Mesh('fsdp': 2, 'tp': 4, axis_types=(Auto, Auto)), spec=PartitionSpec('tp',), memory_kind=device)}, 'k_proj': {'w': NamedSharding(mesh=Mesh('fsdp': 2, 'tp': 4, axis_types=(Auto, Auto)), spec=PartitionSpec('tp', 'fsdp', None), memory_kind=device)}, 'o_proj': {'w': NamedSharding(mesh=Mesh('fsdp': 2, 'tp': 4, axis_types=(Auto, Auto)), spec=PartitionSpec('tp', None, 'fsdp'), memory_kind=device)}, 'q_norm': {'w': NamedSharding(mesh=Mesh('fsdp': 2, 'tp': 4, axis_types=(Auto, Auto)), spec=PartitionSpec('tp',), memory_kind=device)}, 'q_proj': {'w': NamedSharding(mesh=Mesh('fsdp': 2, 'tp': 4, axis_types=(Auto, Auto)), spec=PartitionSpec('tp', 'fsdp', None), memory_kind=device)}, 'v_proj': {'w': NamedSharding(mesh=Mesh('fsdp': 2, 'tp': 4, axis_types=(Auto, Auto)), spec=PartitionSpec('tp', 'fsdp', None), memory_kind=device)}}, 'input_layernorm': {'w': NamedSharding(mesh=Mesh('fsdp': 2, 'tp': 4, axis_types=(Auto, Auto)), spec=PartitionSpec('tp',), memory_kind=device)}, 'mlp': {'down_proj': {'kernel': NamedSharding(mesh=Mesh('fsdp': 2, 'tp': 4, axis_types=(Auto, Auto)), spec=PartitionSpec('tp', 'fsdp'), memory_kind=device)}, 'gate_proj': {'kernel': NamedSharding(mesh=Mesh('fsdp': 2, 'tp': 4, axis_types=(Auto, Auto)), spec=PartitionSpec('fsdp', 'tp'), memory_kind=device)}, 'up_proj': {'kernel': NamedSharding(mesh=Mesh('fsdp': 2, 'tp': 4, axis_types=(Auto, Auto)), spec=PartitionSpec('fsdp', 'tp'), memory_kind=device)}}, 'post_attention_layernorm': {'w': NamedSharding(mesh=Mesh('fsdp': 2, 'tp': 4, axis_types=(Auto, Auto)), spec=PartitionSpec('tp',), memory_kind=device)}}, 15: {'attn': {'k_norm': {'w': NamedSharding(mesh=Mesh('fsdp': 2, 'tp': 4, axis_types=(Auto, Auto)), spec=PartitionSpec('tp',), memory_kind=device)}, 'k_proj': {'w': NamedSharding(mesh=Mesh('fsdp': 2, 'tp': 4, axis_types=(Auto, Auto)), spec=PartitionSpec('tp', 'fsdp', None), memory_kind=device)}, 'o_proj': {'w': NamedSharding(mesh=Mesh('fsdp': 2, 'tp': 4, axis_types=(Auto, Auto)), spec=PartitionSpec('tp', None, 'fsdp'), memory_kind=device)}, 'q_norm': {'w': NamedSharding(mesh=Mesh('fsdp': 2, 'tp': 4, axis_types=(Auto, Auto)), spec=PartitionSpec('tp',), memory_kind=device)}, 'q_proj': {'w': NamedSharding(mesh=Mesh('fsdp': 2, 'tp': 4, axis_types=(Auto, Auto)), spec=PartitionSpec('tp', 'fsdp', None), memory_kind=device)}, 'v_proj': {'w': NamedSharding(mesh=Mesh('fsdp': 2, 'tp': 4, axis_types=(Auto, Auto)), spec=PartitionSpec('tp', 'fsdp', None), memory_kind=device)}}, 'input_layernorm': {'w': NamedSharding(mesh=Mesh('fsdp': 2, 'tp': 4, axis_types=(Auto, Auto)), spec=PartitionSpec('tp',), memory_kind=device)}, 'mlp': {'down_proj': {'kernel': NamedSharding(mesh=Mesh('fsdp': 2, 'tp': 4, axis_types=(Auto, Auto)), spec=PartitionSpec('tp', 'fsdp'), memory_kind=device)}, 'gate_proj': {'kernel': NamedSharding(mesh=Mesh('fsdp': 2, 'tp': 4, axis_types=(Auto, Auto)), spec=PartitionSpec('fsdp', 'tp'), memory_kind=device)}, 'up_proj': {'kernel': NamedSharding(mesh=Mesh('fsdp': 2, 'tp': 4, axis_types=(Auto, Auto)), spec=PartitionSpec('fsdp', 'tp'), memory_kind=device)}}, 'post_attention_layernorm': {'w': NamedSharding(mesh=Mesh('fsdp': 2, 'tp': 4, axis_types=(Auto, Auto)), spec=PartitionSpec('tp',), memory_kind=device)}}, 16: {'attn': {'k_norm': {'w': NamedSharding(mesh=Mesh('fsdp': 2, 'tp': 4, axis_types=(Auto, Auto)), spec=PartitionSpec('tp',), memory_kind=device)}, 'k_proj': {'w': NamedSharding(mesh=Mesh('fsdp': 2, 'tp': 4, axis_types=(Auto, Auto)), spec=PartitionSpec('tp', 'fsdp', None), memory_kind=device)}, 'o_proj': {'w': NamedSharding(mesh=Mesh('fsdp': 2, 'tp': 4, axis_types=(Auto, Auto)), spec=PartitionSpec('tp', None, 'fsdp'), memory_kind=device)}, 'q_norm': {'w': NamedSharding(mesh=Mesh('fsdp': 2, 'tp': 4, axis_types=(Auto, Auto)), spec=PartitionSpec('tp',), memory_kind=device)}, 'q_proj': {'w': NamedSharding(mesh=Mesh('fsdp': 2, 'tp': 4, axis_types=(Auto, Auto)), spec=PartitionSpec('tp', 'fsdp', None), memory_kind=device)}, 'v_proj': {'w': NamedSharding(mesh=Mesh('fsdp': 2, 'tp': 4, axis_types=(Auto, Auto)), spec=PartitionSpec('tp', 'fsdp', None), memory_kind=device)}}, 'input_layernorm': {'w': NamedSharding(mesh=Mesh('fsdp': 2, 'tp': 4, axis_types=(Auto, Auto)), spec=PartitionSpec('tp',), memory_kind=device)}, 'mlp': {'down_proj': {'kernel': NamedSharding(mesh=Mesh('fsdp': 2, 'tp': 4, axis_types=(Auto, Auto)), spec=PartitionSpec('tp', 'fsdp'), memory_kind=device)}, 'gate_proj': {'kernel': NamedSharding(mesh=Mesh('fsdp': 2, 'tp': 4, axis_types=(Auto, Auto)), spec=PartitionSpec('fsdp', 'tp'), memory_kind=device)}, 'up_proj': {'kernel': NamedSharding(mesh=Mesh('fsdp': 2, 'tp': 4, axis_types=(Auto, Auto)), spec=PartitionSpec('fsdp', 'tp'), memory_kind=device)}}, 'post_attention_layernorm': {'w': NamedSharding(mesh=Mesh('fsdp': 2, 'tp': 4, axis_types=(Auto, Auto)), spec=PartitionSpec('tp',), memory_kind=device)}}, 17: {'attn': {'k_norm': {'w': NamedSharding(mesh=Mesh('fsdp': 2, 'tp': 4, axis_types=(Auto, Auto)), spec=PartitionSpec('tp',), memory_kind=device)}, 'k_proj': {'w': NamedSharding(mesh=Mesh('fsdp': 2, 'tp': 4, axis_types=(Auto, Auto)), spec=PartitionSpec('tp', 'fsdp', None), memory_kind=device)}, 'o_proj': {'w': NamedSharding(mesh=Mesh('fsdp': 2, 'tp': 4, axis_types=(Auto, Auto)), spec=PartitionSpec('tp', None, 'fsdp'), memory_kind=device)}, 'q_norm': {'w': NamedSharding(mesh=Mesh('fsdp': 2, 'tp': 4, axis_types=(Auto, Auto)), spec=PartitionSpec('tp',), memory_kind=device)}, 'q_proj': {'w': NamedSharding(mesh=Mesh('fsdp': 2, 'tp': 4, axis_types=(Auto, Auto)), spec=PartitionSpec('tp', 'fsdp', None), memory_kind=device)}, 'v_proj': {'w': NamedSharding(mesh=Mesh('fsdp': 2, 'tp': 4, axis_types=(Auto, Auto)), spec=PartitionSpec('tp', 'fsdp', None), memory_kind=device)}}, 'input_layernorm': {'w': NamedSharding(mesh=Mesh('fsdp': 2, 'tp': 4, axis_types=(Auto, Auto)), spec=PartitionSpec('tp',), memory_kind=device)}, 'mlp': {'down_proj': {'kernel': NamedSharding(mesh=Mesh('fsdp': 2, 'tp': 4, axis_types=(Auto, Auto)), spec=PartitionSpec('tp', 'fsdp'), memory_kind=device)}, 'gate_proj': {'kernel': NamedSharding(mesh=Mesh('fsdp': 2, 'tp': 4, axis_types=(Auto, Auto)), spec=PartitionSpec('fsdp', 'tp'), memory_kind=device)}, 'up_proj': {'kernel': NamedSharding(mesh=Mesh('fsdp': 2, 'tp': 4, axis_types=(Auto, Auto)), spec=PartitionSpec('fsdp', 'tp'), memory_kind=device)}}, 'post_attention_layernorm': {'w': NamedSharding(mesh=Mesh('fsdp': 2, 'tp': 4, axis_types=(Auto, Auto)), spec=PartitionSpec('tp',), memory_kind=device)}}, 18: {'attn': {'k_norm': {'w': NamedSharding(mesh=Mesh('fsdp': 2, 'tp': 4, axis_types=(Auto, Auto)), spec=PartitionSpec('tp',), memory_kind=device)}, 'k_proj': {'w': NamedSharding(mesh=Mesh('fsdp': 2, 'tp': 4, axis_types=(Auto, Auto)), spec=PartitionSpec('tp', 'fsdp', None), memory_kind=device)}, 'o_proj': {'w': NamedSharding(mesh=Mesh('fsdp': 2, 'tp': 4, axis_types=(Auto, Auto)), spec=PartitionSpec('tp', None, 'fsdp'), memory_kind=device)}, 'q_norm': {'w': NamedSharding(mesh=Mesh('fsdp': 2, 'tp': 4, axis_types=(Auto, Auto)), spec=PartitionSpec('tp',), memory_kind=device)}, 'q_proj': {'w': NamedSharding(mesh=Mesh('fsdp': 2, 'tp': 4, axis_types=(Auto, Auto)), spec=PartitionSpec('tp', 'fsdp', None), memory_kind=device)}, 'v_proj': {'w': NamedSharding(mesh=Mesh('fsdp': 2, 'tp': 4, axis_types=(Auto, Auto)), spec=PartitionSpec('tp', 'fsdp', None), memory_kind=device)}}, 'input_layernorm': {'w': NamedSharding(mesh=Mesh('fsdp': 2, 'tp': 4, axis_types=(Auto, Auto)), spec=PartitionSpec('tp',), memory_kind=device)}, 'mlp': {'down_proj': {'kernel': NamedSharding(mesh=Mesh('fsdp': 2, 'tp': 4, axis_types=(Auto, Auto)), spec=PartitionSpec('tp', 'fsdp'), memory_kind=device)}, 'gate_proj': {'kernel': NamedSharding(mesh=Mesh('fsdp': 2, 'tp': 4, axis_types=(Auto, Auto)), spec=PartitionSpec('fsdp', 'tp'), memory_kind=device)}, 'up_proj': {'kernel': NamedSharding(mesh=Mesh('fsdp': 2, 'tp': 4, axis_types=(Auto, Auto)), spec=PartitionSpec('fsdp', 'tp'), memory_kind=device)}}, 'post_attention_layernorm': {'w': NamedSharding(mesh=Mesh('fsdp': 2, 'tp': 4, axis_types=(Auto, Auto)), spec=PartitionSpec('tp',), memory_kind=device)}}, 19: {'attn': {'k_norm': {'w': NamedSharding(mesh=Mesh('fsdp': 2, 'tp': 4, axis_types=(Auto, Auto)), spec=PartitionSpec('tp',), memory_kind=device)}, 'k_proj': {'w': NamedSharding(mesh=Mesh('fsdp': 2, 'tp': 4, axis_types=(Auto, Auto)), spec=PartitionSpec('tp', 'fsdp', None), memory_kind=device)}, 'o_proj': {'w': NamedSharding(mesh=Mesh('fsdp': 2, 'tp': 4, axis_types=(Auto, Auto)), spec=PartitionSpec('tp', None, 'fsdp'), memory_kind=device)}, 'q_norm': {'w': NamedSharding(mesh=Mesh('fsdp': 2, 'tp': 4, axis_types=(Auto, Auto)), spec=PartitionSpec('tp',), memory_kind=device)}, 'q_proj': {'w': NamedSharding(mesh=Mesh('fsdp': 2, 'tp': 4, axis_types=(Auto, Auto)), spec=PartitionSpec('tp', 'fsdp', None), memory_kind=device)}, 'v_proj': {'w': NamedSharding(mesh=Mesh('fsdp': 2, 'tp': 4, axis_types=(Auto, Auto)), spec=PartitionSpec('tp', 'fsdp', None), memory_kind=device)}}, 'input_layernorm': {'w': NamedSharding(mesh=Mesh('fsdp': 2, 'tp': 4, axis_types=(Auto, Auto)), spec=PartitionSpec('tp',), memory_kind=device)}, 'mlp': {'down_proj': {'kernel': NamedSharding(mesh=Mesh('fsdp': 2, 'tp': 4, axis_types=(Auto, Auto)), spec=PartitionSpec('tp', 'fsdp'), memory_kind=device)}, 'gate_proj': {'kernel': NamedSharding(mesh=Mesh('fsdp': 2, 'tp': 4, axis_types=(Auto, Auto)), spec=PartitionSpec('fsdp', 'tp'), memory_kind=device)}, 'up_proj': {'kernel': NamedSharding(mesh=Mesh('fsdp': 2, 'tp': 4, axis_types=(Auto, Auto)), spec=PartitionSpec('fsdp', 'tp'), memory_kind=device)}}, 'post_attention_layernorm': {'w': NamedSharding(mesh=Mesh('fsdp': 2, 'tp': 4, axis_types=(Auto, Auto)), spec=PartitionSpec('tp',), memory_kind=device)}}, 20: {'attn': {'k_norm': {'w': NamedSharding(mesh=Mesh('fsdp': 2, 'tp': 4, axis_types=(Auto, Auto)), spec=PartitionSpec('tp',), memory_kind=device)}, 'k_proj': {'w': NamedSharding(mesh=Mesh('fsdp': 2, 'tp': 4, axis_types=(Auto, Auto)), spec=PartitionSpec('tp', 'fsdp', None), memory_kind=device)}, 'o_proj': {'w': NamedSharding(mesh=Mesh('fsdp': 2, 'tp': 4, axis_types=(Auto, Auto)), spec=PartitionSpec('tp', None, 'fsdp'), memory_kind=device)}, 'q_norm': {'w': NamedSharding(mesh=Mesh('fsdp': 2, 'tp': 4, axis_types=(Auto, Auto)), spec=PartitionSpec('tp',), memory_kind=device)}, 'q_proj': {'w': NamedSharding(mesh=Mesh('fsdp': 2, 'tp': 4, axis_types=(Auto, Auto)), spec=PartitionSpec('tp', 'fsdp', None), memory_kind=device)}, 'v_proj': {'w': NamedSharding(mesh=Mesh('fsdp': 2, 'tp': 4, axis_types=(Auto, Auto)), spec=PartitionSpec('tp', 'fsdp', None), memory_kind=device)}}, 'input_layernorm': {'w': NamedSharding(mesh=Mesh('fsdp': 2, 'tp': 4, axis_types=(Auto, Auto)), spec=PartitionSpec('tp',), memory_kind=device)}, 'mlp': {'down_proj': {'kernel': NamedSharding(mesh=Mesh('fsdp': 2, 'tp': 4, axis_types=(Auto, Auto)), spec=PartitionSpec('tp', 'fsdp'), memory_kind=device)}, 'gate_proj': {'kernel': NamedSharding(mesh=Mesh('fsdp': 2, 'tp': 4, axis_types=(Auto, Auto)), spec=PartitionSpec('fsdp', 'tp'), memory_kind=device)}, 'up_proj': {'kernel': NamedSharding(mesh=Mesh('fsdp': 2, 'tp': 4, axis_types=(Auto, Auto)), spec=PartitionSpec('fsdp', 'tp'), memory_kind=device)}}, 'post_attention_layernorm': {'w': NamedSharding(mesh=Mesh('fsdp': 2, 'tp': 4, axis_types=(Auto, Auto)), spec=PartitionSpec('tp',), memory_kind=device)}}, 21: {'attn': {'k_norm': {'w': NamedSharding(mesh=Mesh('fsdp': 2, 'tp': 4, axis_types=(Auto, Auto)), spec=PartitionSpec('tp',), memory_kind=device)}, 'k_proj': {'w': NamedSharding(mesh=Mesh('fsdp': 2, 'tp': 4, axis_types=(Auto, Auto)), spec=PartitionSpec('tp', 'fsdp', None), memory_kind=device)}, 'o_proj': {'w': NamedSharding(mesh=Mesh('fsdp': 2, 'tp': 4, axis_types=(Auto, Auto)), spec=PartitionSpec('tp', None, 'fsdp'), memory_kind=device)}, 'q_norm': {'w': NamedSharding(mesh=Mesh('fsdp': 2, 'tp': 4, axis_types=(Auto, Auto)), spec=PartitionSpec('tp',), memory_kind=device)}, 'q_proj': {'w': NamedSharding(mesh=Mesh('fsdp': 2, 'tp': 4, axis_types=(Auto, Auto)), spec=PartitionSpec('tp', 'fsdp', None), memory_kind=device)}, 'v_proj': {'w': NamedSharding(mesh=Mesh('fsdp': 2, 'tp': 4, axis_types=(Auto, Auto)), spec=PartitionSpec('tp', 'fsdp', None), memory_kind=device)}}, 'input_layernorm': {'w': NamedSharding(mesh=Mesh('fsdp': 2, 'tp': 4, axis_types=(Auto, Auto)), spec=PartitionSpec('tp',), memory_kind=device)}, 'mlp': {'down_proj': {'kernel': NamedSharding(mesh=Mesh('fsdp': 2, 'tp': 4, axis_types=(Auto, Auto)), spec=PartitionSpec('tp', 'fsdp'), memory_kind=device)}, 'gate_proj': {'kernel': NamedSharding(mesh=Mesh('fsdp': 2, 'tp': 4, axis_types=(Auto, Auto)), spec=PartitionSpec('fsdp', 'tp'), memory_kind=device)}, 'up_proj': {'kernel': NamedSharding(mesh=Mesh('fsdp': 2, 'tp': 4, axis_types=(Auto, Auto)), spec=PartitionSpec('fsdp', 'tp'), memory_kind=device)}}, 'post_attention_layernorm': {'w': NamedSharding(mesh=Mesh('fsdp': 2, 'tp': 4, axis_types=(Auto, Auto)), spec=PartitionSpec('tp',), memory_kind=device)}}, 22: {'attn': {'k_norm': {'w': NamedSharding(mesh=Mesh('fsdp': 2, 'tp': 4, axis_types=(Auto, Auto)), spec=PartitionSpec('tp',), memory_kind=device)}, 'k_proj': {'w': NamedSharding(mesh=Mesh('fsdp': 2, 'tp': 4, axis_types=(Auto, Auto)), spec=PartitionSpec('tp', 'fsdp', None), memory_kind=device)}, 'o_proj': {'w': NamedSharding(mesh=Mesh('fsdp': 2, 'tp': 4, axis_types=(Auto, Auto)), spec=PartitionSpec('tp', None, 'fsdp'), memory_kind=device)}, 'q_norm': {'w': NamedSharding(mesh=Mesh('fsdp': 2, 'tp': 4, axis_types=(Auto, Auto)), spec=PartitionSpec('tp',), memory_kind=device)}, 'q_proj': {'w': NamedSharding(mesh=Mesh('fsdp': 2, 'tp': 4, axis_types=(Auto, Auto)), spec=PartitionSpec('tp', 'fsdp', None), memory_kind=device)}, 'v_proj': {'w': NamedSharding(mesh=Mesh('fsdp': 2, 'tp': 4, axis_types=(Auto, Auto)), spec=PartitionSpec('tp', 'fsdp', None), memory_kind=device)}}, 'input_layernorm': {'w': NamedSharding(mesh=Mesh('fsdp': 2, 'tp': 4, axis_types=(Auto, Auto)), spec=PartitionSpec('tp',), memory_kind=device)}, 'mlp': {'down_proj': {'kernel': NamedSharding(mesh=Mesh('fsdp': 2, 'tp': 4, axis_types=(Auto, Auto)), spec=PartitionSpec('tp', 'fsdp'), memory_kind=device)}, 'gate_proj': {'kernel': NamedSharding(mesh=Mesh('fsdp': 2, 'tp': 4, axis_types=(Auto, Auto)), spec=PartitionSpec('fsdp', 'tp'), memory_kind=device)}, 'up_proj': {'kernel': NamedSharding(mesh=Mesh('fsdp': 2, 'tp': 4, axis_types=(Auto, Auto)), spec=PartitionSpec('fsdp', 'tp'), memory_kind=device)}}, 'post_attention_layernorm': {'w': NamedSharding(mesh=Mesh('fsdp': 2, 'tp': 4, axis_types=(Auto, Auto)), spec=PartitionSpec('tp',), memory_kind=device)}}, 23: {'attn': {'k_norm': {'w': NamedSharding(mesh=Mesh('fsdp': 2, 'tp': 4, axis_types=(Auto, Auto)), spec=PartitionSpec('tp',), memory_kind=device)}, 'k_proj': {'w': NamedSharding(mesh=Mesh('fsdp': 2, 'tp': 4, axis_types=(Auto, Auto)), spec=PartitionSpec('tp', 'fsdp', None), memory_kind=device)}, 'o_proj': {'w': NamedSharding(mesh=Mesh('fsdp': 2, 'tp': 4, axis_types=(Auto, Auto)), spec=PartitionSpec('tp', None, 'fsdp'), memory_kind=device)}, 'q_norm': {'w': NamedSharding(mesh=Mesh('fsdp': 2, 'tp': 4, axis_types=(Auto, Auto)), spec=PartitionSpec('tp',), memory_kind=device)}, 'q_proj': {'w': NamedSharding(mesh=Mesh('fsdp': 2, 'tp': 4, axis_types=(Auto, Auto)), spec=PartitionSpec('tp', 'fsdp', None), memory_kind=device)}, 'v_proj': {'w': NamedSharding(mesh=Mesh('fsdp': 2, 'tp': 4, axis_types=(Auto, Auto)), spec=PartitionSpec('tp', 'fsdp', None), memory_kind=device)}}, 'input_layernorm': {'w': NamedSharding(mesh=Mesh('fsdp': 2, 'tp': 4, axis_types=(Auto, Auto)), spec=PartitionSpec('tp',), memory_kind=device)}, 'mlp': {'down_proj': {'kernel': NamedSharding(mesh=Mesh('fsdp': 2, 'tp': 4, axis_types=(Auto, Auto)), spec=PartitionSpec('tp', 'fsdp'), memory_kind=device)}, 'gate_proj': {'kernel': NamedSharding(mesh=Mesh('fsdp': 2, 'tp': 4, axis_types=(Auto, Auto)), spec=PartitionSpec('fsdp', 'tp'), memory_kind=device)}, 'up_proj': {'kernel': NamedSharding(mesh=Mesh('fsdp': 2, 'tp': 4, axis_types=(Auto, Auto)), spec=PartitionSpec('fsdp', 'tp'), memory_kind=device)}}, 'post_attention_layernorm': {'w': NamedSharding(mesh=Mesh('fsdp': 2, 'tp': 4, axis_types=(Auto, Auto)), spec=PartitionSpec('tp',), memory_kind=device)}}, 24: {'attn': {'k_norm': {'w': NamedSharding(mesh=Mesh('fsdp': 2, 'tp': 4, axis_types=(Auto, Auto)), spec=PartitionSpec('tp',), memory_kind=device)}, 'k_proj': {'w': NamedSharding(mesh=Mesh('fsdp': 2, 'tp': 4, axis_types=(Auto, Auto)), spec=PartitionSpec('tp', 'fsdp', None), memory_kind=device)}, 'o_proj': {'w': NamedSharding(mesh=Mesh('fsdp': 2, 'tp': 4, axis_types=(Auto, Auto)), spec=PartitionSpec('tp', None, 'fsdp'), memory_kind=device)}, 'q_norm': {'w': NamedSharding(mesh=Mesh('fsdp': 2, 'tp': 4, axis_types=(Auto, Auto)), spec=PartitionSpec('tp',), memory_kind=device)}, 'q_proj': {'w': NamedSharding(mesh=Mesh('fsdp': 2, 'tp': 4, axis_types=(Auto, Auto)), spec=PartitionSpec('tp', 'fsdp', None), memory_kind=device)}, 'v_proj': {'w': NamedSharding(mesh=Mesh('fsdp': 2, 'tp': 4, axis_types=(Auto, Auto)), spec=PartitionSpec('tp', 'fsdp', None), memory_kind=device)}}, 'input_layernorm': {'w': NamedSharding(mesh=Mesh('fsdp': 2, 'tp': 4, axis_types=(Auto, Auto)), spec=PartitionSpec('tp',), memory_kind=device)}, 'mlp': {'down_proj': {'kernel': NamedSharding(mesh=Mesh('fsdp': 2, 'tp': 4, axis_types=(Auto, Auto)), spec=PartitionSpec('tp', 'fsdp'), memory_kind=device)}, 'gate_proj': {'kernel': NamedSharding(mesh=Mesh('fsdp': 2, 'tp': 4, axis_types=(Auto, Auto)), spec=PartitionSpec('fsdp', 'tp'), memory_kind=device)}, 'up_proj': {'kernel': NamedSharding(mesh=Mesh('fsdp': 2, 'tp': 4, axis_types=(Auto, Auto)), spec=PartitionSpec('fsdp', 'tp'), memory_kind=device)}}, 'post_attention_layernorm': {'w': NamedSharding(mesh=Mesh('fsdp': 2, 'tp': 4, axis_types=(Auto, Auto)), spec=PartitionSpec('tp',), memory_kind=device)}}, 25: {'attn': {'k_norm': {'w': NamedSharding(mesh=Mesh('fsdp': 2, 'tp': 4, axis_types=(Auto, Auto)), spec=PartitionSpec('tp',), memory_kind=device)}, 'k_proj': {'w': NamedSharding(mesh=Mesh('fsdp': 2, 'tp': 4, axis_types=(Auto, Auto)), spec=PartitionSpec('tp', 'fsdp', None), memory_kind=device)}, 'o_proj': {'w': NamedSharding(mesh=Mesh('fsdp': 2, 'tp': 4, axis_types=(Auto, Auto)), spec=PartitionSpec('tp', None, 'fsdp'), memory_kind=device)}, 'q_norm': {'w': NamedSharding(mesh=Mesh('fsdp': 2, 'tp': 4, axis_types=(Auto, Auto)), spec=PartitionSpec('tp',), memory_kind=device)}, 'q_proj': {'w': NamedSharding(mesh=Mesh('fsdp': 2, 'tp': 4, axis_types=(Auto, Auto)), spec=PartitionSpec('tp', 'fsdp', None), memory_kind=device)}, 'v_proj': {'w': NamedSharding(mesh=Mesh('fsdp': 2, 'tp': 4, axis_types=(Auto, Auto)), spec=PartitionSpec('tp', 'fsdp', None), memory_kind=device)}}, 'input_layernorm': {'w': NamedSharding(mesh=Mesh('fsdp': 2, 'tp': 4, axis_types=(Auto, Auto)), spec=PartitionSpec('tp',), memory_kind=device)}, 'mlp': {'down_proj': {'kernel': NamedSharding(mesh=Mesh('fsdp': 2, 'tp': 4, axis_types=(Auto, Auto)), spec=PartitionSpec('tp', 'fsdp'), memory_kind=device)}, 'gate_proj': {'kernel': NamedSharding(mesh=Mesh('fsdp': 2, 'tp': 4, axis_types=(Auto, Auto)), spec=PartitionSpec('fsdp', 'tp'), memory_kind=device)}, 'up_proj': {'kernel': NamedSharding(mesh=Mesh('fsdp': 2, 'tp': 4, axis_types=(Auto, Auto)), spec=PartitionSpec('fsdp', 'tp'), memory_kind=device)}}, 'post_attention_layernorm': {'w': NamedSharding(mesh=Mesh('fsdp': 2, 'tp': 4, axis_types=(Auto, Auto)), spec=PartitionSpec('tp',), memory_kind=device)}}, 26: {'attn': {'k_norm': {'w': NamedSharding(mesh=Mesh('fsdp': 2, 'tp': 4, axis_types=(Auto, Auto)), spec=PartitionSpec('tp',), memory_kind=device)}, 'k_proj': {'w': NamedSharding(mesh=Mesh('fsdp': 2, 'tp': 4, axis_types=(Auto, Auto)), spec=PartitionSpec('tp', 'fsdp', None), memory_kind=device)}, 'o_proj': {'w': NamedSharding(mesh=Mesh('fsdp': 2, 'tp': 4, axis_types=(Auto, Auto)), spec=PartitionSpec('tp', None, 'fsdp'), memory_kind=device)}, 'q_norm': {'w': NamedSharding(mesh=Mesh('fsdp': 2, 'tp': 4, axis_types=(Auto, Auto)), spec=PartitionSpec('tp',), memory_kind=device)}, 'q_proj': {'w': NamedSharding(mesh=Mesh('fsdp': 2, 'tp': 4, axis_types=(Auto, Auto)), spec=PartitionSpec('tp', 'fsdp', None), memory_kind=device)}, 'v_proj': {'w': NamedSharding(mesh=Mesh('fsdp': 2, 'tp': 4, axis_types=(Auto, Auto)), spec=PartitionSpec('tp', 'fsdp', None), memory_kind=device)}}, 'input_layernorm': {'w': NamedSharding(mesh=Mesh('fsdp': 2, 'tp': 4, axis_types=(Auto, Auto)), spec=PartitionSpec('tp',), memory_kind=device)}, 'mlp': {'down_proj': {'kernel': NamedSharding(mesh=Mesh('fsdp': 2, 'tp': 4, axis_types=(Auto, Auto)), spec=PartitionSpec('tp', 'fsdp'), memory_kind=device)}, 'gate_proj': {'kernel': NamedSharding(mesh=Mesh('fsdp': 2, 'tp': 4, axis_types=(Auto, Auto)), spec=PartitionSpec('fsdp', 'tp'), memory_kind=device)}, 'up_proj': {'kernel': NamedSharding(mesh=Mesh('fsdp': 2, 'tp': 4, axis_types=(Auto, Auto)), spec=PartitionSpec('fsdp', 'tp'), memory_kind=device)}}, 'post_attention_layernorm': {'w': NamedSharding(mesh=Mesh('fsdp': 2, 'tp': 4, axis_types=(Auto, Auto)), spec=PartitionSpec('tp',), memory_kind=device)}}, 27: {'attn': {'k_norm': {'w': NamedSharding(mesh=Mesh('fsdp': 2, 'tp': 4, axis_types=(Auto, Auto)), spec=PartitionSpec('tp',), memory_kind=device)}, 'k_proj': {'w': NamedSharding(mesh=Mesh('fsdp': 2, 'tp': 4, axis_types=(Auto, Auto)), spec=PartitionSpec('tp', 'fsdp', None), memory_kind=device)}, 'o_proj': {'w': NamedSharding(mesh=Mesh('fsdp': 2, 'tp': 4, axis_types=(Auto, Auto)), spec=PartitionSpec('tp', None, 'fsdp'), memory_kind=device)}, 'q_norm': {'w': NamedSharding(mesh=Mesh('fsdp': 2, 'tp': 4, axis_types=(Auto, Auto)), spec=PartitionSpec('tp',), memory_kind=device)}, 'q_proj': {'w': NamedSharding(mesh=Mesh('fsdp': 2, 'tp': 4, axis_types=(Auto, Auto)), spec=PartitionSpec('tp', 'fsdp', None), memory_kind=device)}, 'v_proj': {'w': NamedSharding(mesh=Mesh('fsdp': 2, 'tp': 4, axis_types=(Auto, Auto)), spec=PartitionSpec('tp', 'fsdp', None), memory_kind=device)}}, 'input_layernorm': {'w': NamedSharding(mesh=Mesh('fsdp': 2, 'tp': 4, axis_types=(Auto, Auto)), spec=PartitionSpec('tp',), memory_kind=device)}, 'mlp': {'down_proj': {'kernel': NamedSharding(mesh=Mesh('fsdp': 2, 'tp': 4, axis_types=(Auto, Auto)), spec=PartitionSpec('tp', 'fsdp'), memory_kind=device)}, 'gate_proj': {'kernel': NamedSharding(mesh=Mesh('fsdp': 2, 'tp': 4, axis_types=(Auto, Auto)), spec=PartitionSpec('fsdp', 'tp'), memory_kind=device)}, 'up_proj': {'kernel': NamedSharding(mesh=Mesh('fsdp': 2, 'tp': 4, axis_types=(Auto, Auto)), spec=PartitionSpec('fsdp', 'tp'), memory_kind=device)}}, 'post_attention_layernorm': {'w': NamedSharding(mesh=Mesh('fsdp': 2, 'tp': 4, axis_types=(Auto, Auto)), spec=PartitionSpec('tp',), memory_kind=device)}}, 28: {'attn': {'k_norm': {'w': NamedSharding(mesh=Mesh('fsdp': 2, 'tp': 4, axis_types=(Auto, Auto)), spec=PartitionSpec('tp',), memory_kind=device)}, 'k_proj': {'w': NamedSharding(mesh=Mesh('fsdp': 2, 'tp': 4, axis_types=(Auto, Auto)), spec=PartitionSpec('tp', 'fsdp', None), memory_kind=device)}, 'o_proj': {'w': NamedSharding(mesh=Mesh('fsdp': 2, 'tp': 4, axis_types=(Auto, Auto)), spec=PartitionSpec('tp', None, 'fsdp'), memory_kind=device)}, 'q_norm': {'w': NamedSharding(mesh=Mesh('fsdp': 2, 'tp': 4, axis_types=(Auto, Auto)), spec=PartitionSpec('tp',), memory_kind=device)}, 'q_proj': {'w': NamedSharding(mesh=Mesh('fsdp': 2, 'tp': 4, axis_types=(Auto, Auto)), spec=PartitionSpec('tp', 'fsdp', None), memory_kind=device)}, 'v_proj': {'w': NamedSharding(mesh=Mesh('fsdp': 2, 'tp': 4, axis_types=(Auto, Auto)), spec=PartitionSpec('tp', 'fsdp', None), memory_kind=device)}}, 'input_layernorm': {'w': NamedSharding(mesh=Mesh('fsdp': 2, 'tp': 4, axis_types=(Auto, Auto)), spec=PartitionSpec('tp',), memory_kind=device)}, 'mlp': {'down_proj': {'kernel': NamedSharding(mesh=Mesh('fsdp': 2, 'tp': 4, axis_types=(Auto, Auto)), spec=PartitionSpec('tp', 'fsdp'), memory_kind=device)}, 'gate_proj': {'kernel': NamedSharding(mesh=Mesh('fsdp': 2, 'tp': 4, axis_types=(Auto, Auto)), spec=PartitionSpec('fsdp', 'tp'), memory_kind=device)}, 'up_proj': {'kernel': NamedSharding(mesh=Mesh('fsdp': 2, 'tp': 4, axis_types=(Auto, Auto)), spec=PartitionSpec('fsdp', 'tp'), memory_kind=device)}}, 'post_attention_layernorm': {'w': NamedSharding(mesh=Mesh('fsdp': 2, 'tp': 4, axis_types=(Auto, Auto)), spec=PartitionSpec('tp',), memory_kind=device)}}, 29: {'attn': {'k_norm': {'w': NamedSharding(mesh=Mesh('fsdp': 2, 'tp': 4, axis_types=(Auto, Auto)), spec=PartitionSpec('tp',), memory_kind=device)}, 'k_proj': {'w': NamedSharding(mesh=Mesh('fsdp': 2, 'tp': 4, axis_types=(Auto, Auto)), spec=PartitionSpec('tp', 'fsdp', None), memory_kind=device)}, 'o_proj': {'w': NamedSharding(mesh=Mesh('fsdp': 2, 'tp': 4, axis_types=(Auto, Auto)), spec=PartitionSpec('tp', None, 'fsdp'), memory_kind=device)}, 'q_norm': {'w': NamedSharding(mesh=Mesh('fsdp': 2, 'tp': 4, axis_types=(Auto, Auto)), spec=PartitionSpec('tp',), memory_kind=device)}, 'q_proj': {'w': NamedSharding(mesh=Mesh('fsdp': 2, 'tp': 4, axis_types=(Auto, Auto)), spec=PartitionSpec('tp', 'fsdp', None), memory_kind=device)}, 'v_proj': {'w': NamedSharding(mesh=Mesh('fsdp': 2, 'tp': 4, axis_types=(Auto, Auto)), spec=PartitionSpec('tp', 'fsdp', None), memory_kind=device)}}, 'input_layernorm': {'w': NamedSharding(mesh=Mesh('fsdp': 2, 'tp': 4, axis_types=(Auto, Auto)), spec=PartitionSpec('tp',), memory_kind=device)}, 'mlp': {'down_proj': {'kernel': NamedSharding(mesh=Mesh('fsdp': 2, 'tp': 4, axis_types=(Auto, Auto)), spec=PartitionSpec('tp', 'fsdp'), memory_kind=device)}, 'gate_proj': {'kernel': NamedSharding(mesh=Mesh('fsdp': 2, 'tp': 4, axis_types=(Auto, Auto)), spec=PartitionSpec('fsdp', 'tp'), memory_kind=device)}, 'up_proj': {'kernel': NamedSharding(mesh=Mesh('fsdp': 2, 'tp': 4, axis_types=(Auto, Auto)), spec=PartitionSpec('fsdp', 'tp'), memory_kind=device)}}, 'post_attention_layernorm': {'w': NamedSharding(mesh=Mesh('fsdp': 2, 'tp': 4, axis_types=(Auto, Auto)), spec=PartitionSpec('tp',), memory_kind=device)}}, 30: {'attn': {'k_norm': {'w': NamedSharding(mesh=Mesh('fsdp': 2, 'tp': 4, axis_types=(Auto, Auto)), spec=PartitionSpec('tp',), memory_kind=device)}, 'k_proj': {'w': NamedSharding(mesh=Mesh('fsdp': 2, 'tp': 4, axis_types=(Auto, Auto)), spec=PartitionSpec('tp', 'fsdp', None), memory_kind=device)}, 'o_proj': {'w': NamedSharding(mesh=Mesh('fsdp': 2, 'tp': 4, axis_types=(Auto, Auto)), spec=PartitionSpec('tp', None, 'fsdp'), memory_kind=device)}, 'q_norm': {'w': NamedSharding(mesh=Mesh('fsdp': 2, 'tp': 4, axis_types=(Auto, Auto)), spec=PartitionSpec('tp',), memory_kind=device)}, 'q_proj': {'w': NamedSharding(mesh=Mesh('fsdp': 2, 'tp': 4, axis_types=(Auto, Auto)), spec=PartitionSpec('tp', 'fsdp', None), memory_kind=device)}, 'v_proj': {'w': NamedSharding(mesh=Mesh('fsdp': 2, 'tp': 4, axis_types=(Auto, Auto)), spec=PartitionSpec('tp', 'fsdp', None), memory_kind=device)}}, 'input_layernorm': {'w': NamedSharding(mesh=Mesh('fsdp': 2, 'tp': 4, axis_types=(Auto, Auto)), spec=PartitionSpec('tp',), memory_kind=device)}, 'mlp': {'down_proj': {'kernel': NamedSharding(mesh=Mesh('fsdp': 2, 'tp': 4, axis_types=(Auto, Auto)), spec=PartitionSpec('tp', 'fsdp'), memory_kind=device)}, 'gate_proj': {'kernel': NamedSharding(mesh=Mesh('fsdp': 2, 'tp': 4, axis_types=(Auto, Auto)), spec=PartitionSpec('fsdp', 'tp'), memory_kind=device)}, 'up_proj': {'kernel': NamedSharding(mesh=Mesh('fsdp': 2, 'tp': 4, axis_types=(Auto, Auto)), spec=PartitionSpec('fsdp', 'tp'), memory_kind=device)}}, 'post_attention_layernorm': {'w': NamedSharding(mesh=Mesh('fsdp': 2, 'tp': 4, axis_types=(Auto, Auto)), spec=PartitionSpec('tp',), memory_kind=device)}}, 31: {'attn': {'k_norm': {'w': NamedSharding(mesh=Mesh('fsdp': 2, 'tp': 4, axis_types=(Auto, Auto)), spec=PartitionSpec('tp',), memory_kind=device)}, 'k_proj': {'w': NamedSharding(mesh=Mesh('fsdp': 2, 'tp': 4, axis_types=(Auto, Auto)), spec=PartitionSpec('tp', 'fsdp', None), memory_kind=device)}, 'o_proj': {'w': NamedSharding(mesh=Mesh('fsdp': 2, 'tp': 4, axis_types=(Auto, Auto)), spec=PartitionSpec('tp', None, 'fsdp'), memory_kind=device)}, 'q_norm': {'w': NamedSharding(mesh=Mesh('fsdp': 2, 'tp': 4, axis_types=(Auto, Auto)), spec=PartitionSpec('tp',), memory_kind=device)}, 'q_proj': {'w': NamedSharding(mesh=Mesh('fsdp': 2, 'tp': 4, axis_types=(Auto, Auto)), spec=PartitionSpec('tp', 'fsdp', None), memory_kind=device)}, 'v_proj': {'w': NamedSharding(mesh=Mesh('fsdp': 2, 'tp': 4, axis_types=(Auto, Auto)), spec=PartitionSpec('tp', 'fsdp', None), memory_kind=device)}}, 'input_layernorm': {'w': NamedSharding(mesh=Mesh('fsdp': 2, 'tp': 4, axis_types=(Auto, Auto)), spec=PartitionSpec('tp',), memory_kind=device)}, 'mlp': {'down_proj': {'kernel': NamedSharding(mesh=Mesh('fsdp': 2, 'tp': 4, axis_types=(Auto, Auto)), spec=PartitionSpec('tp', 'fsdp'), memory_kind=device)}, 'gate_proj': {'kernel': NamedSharding(mesh=Mesh('fsdp': 2, 'tp': 4, axis_types=(Auto, Auto)), spec=PartitionSpec('fsdp', 'tp'), memory_kind=device)}, 'up_proj': {'kernel': NamedSharding(mesh=Mesh('fsdp': 2, 'tp': 4, axis_types=(Auto, Auto)), spec=PartitionSpec('fsdp', 'tp'), memory_kind=device)}}, 'post_attention_layernorm': {'w': NamedSharding(mesh=Mesh('fsdp': 2, 'tp': 4, axis_types=(Auto, Auto)), spec=PartitionSpec('tp',), memory_kind=device)}}, 32: {'attn': {'k_norm': {'w': NamedSharding(mesh=Mesh('fsdp': 2, 'tp': 4, axis_types=(Auto, Auto)), spec=PartitionSpec('tp',), memory_kind=device)}, 'k_proj': {'w': NamedSharding(mesh=Mesh('fsdp': 2, 'tp': 4, axis_types=(Auto, Auto)), spec=PartitionSpec('tp', 'fsdp', None), memory_kind=device)}, 'o_proj': {'w': NamedSharding(mesh=Mesh('fsdp': 2, 'tp': 4, axis_types=(Auto, Auto)), spec=PartitionSpec('tp', None, 'fsdp'), memory_kind=device)}, 'q_norm': {'w': NamedSharding(mesh=Mesh('fsdp': 2, 'tp': 4, axis_types=(Auto, Auto)), spec=PartitionSpec('tp',), memory_kind=device)}, 'q_proj': {'w': NamedSharding(mesh=Mesh('fsdp': 2, 'tp': 4, axis_types=(Auto, Auto)), spec=PartitionSpec('tp', 'fsdp', None), memory_kind=device)}, 'v_proj': {'w': NamedSharding(mesh=Mesh('fsdp': 2, 'tp': 4, axis_types=(Auto, Auto)), spec=PartitionSpec('tp', 'fsdp', None), memory_kind=device)}}, 'input_layernorm': {'w': NamedSharding(mesh=Mesh('fsdp': 2, 'tp': 4, axis_types=(Auto, Auto)), spec=PartitionSpec('tp',), memory_kind=device)}, 'mlp': {'down_proj': {'kernel': NamedSharding(mesh=Mesh('fsdp': 2, 'tp': 4, axis_types=(Auto, Auto)), spec=PartitionSpec('tp', 'fsdp'), memory_kind=device)}, 'gate_proj': {'kernel': NamedSharding(mesh=Mesh('fsdp': 2, 'tp': 4, axis_types=(Auto, Auto)), spec=PartitionSpec('fsdp', 'tp'), memory_kind=device)}, 'up_proj': {'kernel': NamedSharding(mesh=Mesh('fsdp': 2, 'tp': 4, axis_types=(Auto, Auto)), spec=PartitionSpec('fsdp', 'tp'), memory_kind=device)}}, 'post_attention_layernorm': {'w': NamedSharding(mesh=Mesh('fsdp': 2, 'tp': 4, axis_types=(Auto, Auto)), spec=PartitionSpec('tp',), memory_kind=device)}}, 33: {'attn': {'k_norm': {'w': NamedSharding(mesh=Mesh('fsdp': 2, 'tp': 4, axis_types=(Auto, Auto)), spec=PartitionSpec('tp',), memory_kind=device)}, 'k_proj': {'w': NamedSharding(mesh=Mesh('fsdp': 2, 'tp': 4, axis_types=(Auto, Auto)), spec=PartitionSpec('tp', 'fsdp', None), memory_kind=device)}, 'o_proj': {'w': NamedSharding(mesh=Mesh('fsdp': 2, 'tp': 4, axis_types=(Auto, Auto)), spec=PartitionSpec('tp', None, 'fsdp'), memory_kind=device)}, 'q_norm': {'w': NamedSharding(mesh=Mesh('fsdp': 2, 'tp': 4, axis_types=(Auto, Auto)), spec=PartitionSpec('tp',), memory_kind=device)}, 'q_proj': {'w': NamedSharding(mesh=Mesh('fsdp': 2, 'tp': 4, axis_types=(Auto, Auto)), spec=PartitionSpec('tp', 'fsdp', None), memory_kind=device)}, 'v_proj': {'w': NamedSharding(mesh=Mesh('fsdp': 2, 'tp': 4, axis_types=(Auto, Auto)), spec=PartitionSpec('tp', 'fsdp', None), memory_kind=device)}}, 'input_layernorm': {'w': NamedSharding(mesh=Mesh('fsdp': 2, 'tp': 4, axis_types=(Auto, Auto)), spec=PartitionSpec('tp',), memory_kind=device)}, 'mlp': {'down_proj': {'kernel': NamedSharding(mesh=Mesh('fsdp': 2, 'tp': 4, axis_types=(Auto, Auto)), spec=PartitionSpec('tp', 'fsdp'), memory_kind=device)}, 'gate_proj': {'kernel': NamedSharding(mesh=Mesh('fsdp': 2, 'tp': 4, axis_types=(Auto, Auto)), spec=PartitionSpec('fsdp', 'tp'), memory_kind=device)}, 'up_proj': {'kernel': NamedSharding(mesh=Mesh('fsdp': 2, 'tp': 4, axis_types=(Auto, Auto)), spec=PartitionSpec('fsdp', 'tp'), memory_kind=device)}}, 'post_attention_layernorm': {'w': NamedSharding(mesh=Mesh('fsdp': 2, 'tp': 4, axis_types=(Auto, Auto)), spec=PartitionSpec('tp',), memory_kind=device)}}, 34: {'attn': {'k_norm': {'w': NamedSharding(mesh=Mesh('fsdp': 2, 'tp': 4, axis_types=(Auto, Auto)), spec=PartitionSpec('tp',), memory_kind=device)}, 'k_proj': {'w': NamedSharding(mesh=Mesh('fsdp': 2, 'tp': 4, axis_types=(Auto, Auto)), spec=PartitionSpec('tp', 'fsdp', None), memory_kind=device)}, 'o_proj': {'w': NamedSharding(mesh=Mesh('fsdp': 2, 'tp': 4, axis_types=(Auto, Auto)), spec=PartitionSpec('tp', None, 'fsdp'), memory_kind=device)}, 'q_norm': {'w': NamedSharding(mesh=Mesh('fsdp': 2, 'tp': 4, axis_types=(Auto, Auto)), spec=PartitionSpec('tp',), memory_kind=device)}, 'q_proj': {'w': NamedSharding(mesh=Mesh('fsdp': 2, 'tp': 4, axis_types=(Auto, Auto)), spec=PartitionSpec('tp', 'fsdp', None), memory_kind=device)}, 'v_proj': {'w': NamedSharding(mesh=Mesh('fsdp': 2, 'tp': 4, axis_types=(Auto, Auto)), spec=PartitionSpec('tp', 'fsdp', None), memory_kind=device)}}, 'input_layernorm': {'w': NamedSharding(mesh=Mesh('fsdp': 2, 'tp': 4, axis_types=(Auto, Auto)), spec=PartitionSpec('tp',), memory_kind=device)}, 'mlp': {'down_proj': {'kernel': NamedSharding(mesh=Mesh('fsdp': 2, 'tp': 4, axis_types=(Auto, Auto)), spec=PartitionSpec('tp', 'fsdp'), memory_kind=device)}, 'gate_proj': {'kernel': NamedSharding(mesh=Mesh('fsdp': 2, 'tp': 4, axis_types=(Auto, Auto)), spec=PartitionSpec('fsdp', 'tp'), memory_kind=device)}, 'up_proj': {'kernel': NamedSharding(mesh=Mesh('fsdp': 2, 'tp': 4, axis_types=(Auto, Auto)), spec=PartitionSpec('fsdp', 'tp'), memory_kind=device)}}, 'post_attention_layernorm': {'w': NamedSharding(mesh=Mesh('fsdp': 2, 'tp': 4, axis_types=(Auto, Auto)), spec=PartitionSpec('tp',), memory_kind=device)}}, 35: {'attn': {'k_norm': {'w': NamedSharding(mesh=Mesh('fsdp': 2, 'tp': 4, axis_types=(Auto, Auto)), spec=PartitionSpec('tp',), memory_kind=device)}, 'k_proj': {'w': NamedSharding(mesh=Mesh('fsdp': 2, 'tp': 4, axis_types=(Auto, Auto)), spec=PartitionSpec('tp', 'fsdp', None), memory_kind=device)}, 'o_proj': {'w': NamedSharding(mesh=Mesh('fsdp': 2, 'tp': 4, axis_types=(Auto, Auto)), spec=PartitionSpec('tp', None, 'fsdp'), memory_kind=device)}, 'q_norm': {'w': NamedSharding(mesh=Mesh('fsdp': 2, 'tp': 4, axis_types=(Auto, Auto)), spec=PartitionSpec('tp',), memory_kind=device)}, 'q_proj': {'w': NamedSharding(mesh=Mesh('fsdp': 2, 'tp': 4, axis_types=(Auto, Auto)), spec=PartitionSpec('tp', 'fsdp', None), memory_kind=device)}, 'v_proj': {'w': NamedSharding(mesh=Mesh('fsdp': 2, 'tp': 4, axis_types=(Auto, Auto)), spec=PartitionSpec('tp', 'fsdp', None), memory_kind=device)}}, 'input_layernorm': {'w': NamedSharding(mesh=Mesh('fsdp': 2, 'tp': 4, axis_types=(Auto, Auto)), spec=PartitionSpec('tp',), memory_kind=device)}, 'mlp': {'down_proj': {'kernel': NamedSharding(mesh=Mesh('fsdp': 2, 'tp': 4, axis_types=(Auto, Auto)), spec=PartitionSpec('tp', 'fsdp'), memory_kind=device)}, 'gate_proj': {'kernel': NamedSharding(mesh=Mesh('fsdp': 2, 'tp': 4, axis_types=(Auto, Auto)), spec=PartitionSpec('fsdp', 'tp'), memory_kind=device)}, 'up_proj': {'kernel': NamedSharding(mesh=Mesh('fsdp': 2, 'tp': 4, axis_types=(Auto, Auto)), spec=PartitionSpec('fsdp', 'tp'), memory_kind=device)}}, 'post_attention_layernorm': {'w': NamedSharding(mesh=Mesh('fsdp': 2, 'tp': 4, axis_types=(Auto, Auto)), spec=PartitionSpec('tp',), memory_kind=device)}}, 36: {'attn': {'k_norm': {'w': NamedSharding(mesh=Mesh('fsdp': 2, 'tp': 4, axis_types=(Auto, Auto)), spec=PartitionSpec('tp',), memory_kind=device)}, 'k_proj': {'w': NamedSharding(mesh=Mesh('fsdp': 2, 'tp': 4, axis_types=(Auto, Auto)), spec=PartitionSpec('tp', 'fsdp', None), memory_kind=device)}, 'o_proj': {'w': NamedSharding(mesh=Mesh('fsdp': 2, 'tp': 4, axis_types=(Auto, Auto)), spec=PartitionSpec('tp', None, 'fsdp'), memory_kind=device)}, 'q_norm': {'w': NamedSharding(mesh=Mesh('fsdp': 2, 'tp': 4, axis_types=(Auto, Auto)), spec=PartitionSpec('tp',), memory_kind=device)}, 'q_proj': {'w': NamedSharding(mesh=Mesh('fsdp': 2, 'tp': 4, axis_types=(Auto, Auto)), spec=PartitionSpec('tp', 'fsdp', None), memory_kind=device)}, 'v_proj': {'w': NamedSharding(mesh=Mesh('fsdp': 2, 'tp': 4, axis_types=(Auto, Auto)), spec=PartitionSpec('tp', 'fsdp', None), memory_kind=device)}}, 'input_layernorm': {'w': NamedSharding(mesh=Mesh('fsdp': 2, 'tp': 4, axis_types=(Auto, Auto)), spec=PartitionSpec('tp',), memory_kind=device)}, 'mlp': {'down_proj': {'kernel': NamedSharding(mesh=Mesh('fsdp': 2, 'tp': 4, axis_types=(Auto, Auto)), spec=PartitionSpec('tp', 'fsdp'), memory_kind=device)}, 'gate_proj': {'kernel': NamedSharding(mesh=Mesh('fsdp': 2, 'tp': 4, axis_types=(Auto, Auto)), spec=PartitionSpec('fsdp', 'tp'), memory_kind=device)}, 'up_proj': {'kernel': NamedSharding(mesh=Mesh('fsdp': 2, 'tp': 4, axis_types=(Auto, Auto)), spec=PartitionSpec('fsdp', 'tp'), memory_kind=device)}}, 'post_attention_layernorm': {'w': NamedSharding(mesh=Mesh('fsdp': 2, 'tp': 4, axis_types=(Auto, Auto)), spec=PartitionSpec('tp',), memory_kind=device)}}, 37: {'attn': {'k_norm': {'w': NamedSharding(mesh=Mesh('fsdp': 2, 'tp': 4, axis_types=(Auto, Auto)), spec=PartitionSpec('tp',), memory_kind=device)}, 'k_proj': {'w': NamedSharding(mesh=Mesh('fsdp': 2, 'tp': 4, axis_types=(Auto, Auto)), spec=PartitionSpec('tp', 'fsdp', None), memory_kind=device)}, 'o_proj': {'w': NamedSharding(mesh=Mesh('fsdp': 2, 'tp': 4, axis_types=(Auto, Auto)), spec=PartitionSpec('tp', None, 'fsdp'), memory_kind=device)}, 'q_norm': {'w': NamedSharding(mesh=Mesh('fsdp': 2, 'tp': 4, axis_types=(Auto, Auto)), spec=PartitionSpec('tp',), memory_kind=device)}, 'q_proj': {'w': NamedSharding(mesh=Mesh('fsdp': 2, 'tp': 4, axis_types=(Auto, Auto)), spec=PartitionSpec('tp', 'fsdp', None), memory_kind=device)}, 'v_proj': {'w': NamedSharding(mesh=Mesh('fsdp': 2, 'tp': 4, axis_types=(Auto, Auto)), spec=PartitionSpec('tp', 'fsdp', None), memory_kind=device)}}, 'input_layernorm': {'w': NamedSharding(mesh=Mesh('fsdp': 2, 'tp': 4, axis_types=(Auto, Auto)), spec=PartitionSpec('tp',), memory_kind=device)}, 'mlp': {'down_proj': {'kernel': NamedSharding(mesh=Mesh('fsdp': 2, 'tp': 4, axis_types=(Auto, Auto)), spec=PartitionSpec('tp', 'fsdp'), memory_kind=device)}, 'gate_proj': {'kernel': NamedSharding(mesh=Mesh('fsdp': 2, 'tp': 4, axis_types=(Auto, Auto)), spec=PartitionSpec('fsdp', 'tp'), memory_kind=device)}, 'up_proj': {'kernel': NamedSharding(mesh=Mesh('fsdp': 2, 'tp': 4, axis_types=(Auto, Auto)), spec=PartitionSpec('fsdp', 'tp'), memory_kind=device)}}, 'post_attention_layernorm': {'w': NamedSharding(mesh=Mesh('fsdp': 2, 'tp': 4, axis_types=(Auto, Auto)), spec=PartitionSpec('tp',), memory_kind=device)}}, 38: {'attn': {'k_norm': {'w': NamedSharding(mesh=Mesh('fsdp': 2, 'tp': 4, axis_types=(Auto, Auto)), spec=PartitionSpec('tp',), memory_kind=device)}, 'k_proj': {'w': NamedSharding(mesh=Mesh('fsdp': 2, 'tp': 4, axis_types=(Auto, Auto)), spec=PartitionSpec('tp', 'fsdp', None), memory_kind=device)}, 'o_proj': {'w': NamedSharding(mesh=Mesh('fsdp': 2, 'tp': 4, axis_types=(Auto, Auto)), spec=PartitionSpec('tp', None, 'fsdp'), memory_kind=device)}, 'q_norm': {'w': NamedSharding(mesh=Mesh('fsdp': 2, 'tp': 4, axis_types=(Auto, Auto)), spec=PartitionSpec('tp',), memory_kind=device)}, 'q_proj': {'w': NamedSharding(mesh=Mesh('fsdp': 2, 'tp': 4, axis_types=(Auto, Auto)), spec=PartitionSpec('tp', 'fsdp', None), memory_kind=device)}, 'v_proj': {'w': NamedSharding(mesh=Mesh('fsdp': 2, 'tp': 4, axis_types=(Auto, Auto)), spec=PartitionSpec('tp', 'fsdp', None), memory_kind=device)}}, 'input_layernorm': {'w': NamedSharding(mesh=Mesh('fsdp': 2, 'tp': 4, axis_types=(Auto, Auto)), spec=PartitionSpec('tp',), memory_kind=device)}, 'mlp': {'down_proj': {'kernel': NamedSharding(mesh=Mesh('fsdp': 2, 'tp': 4, axis_types=(Auto, Auto)), spec=PartitionSpec('tp', 'fsdp'), memory_kind=device)}, 'gate_proj': {'kernel': NamedSharding(mesh=Mesh('fsdp': 2, 'tp': 4, axis_types=(Auto, Auto)), spec=PartitionSpec('fsdp', 'tp'), memory_kind=device)}, 'up_proj': {'kernel': NamedSharding(mesh=Mesh('fsdp': 2, 'tp': 4, axis_types=(Auto, Auto)), spec=PartitionSpec('fsdp', 'tp'), memory_kind=device)}}, 'post_attention_layernorm': {'w': NamedSharding(mesh=Mesh('fsdp': 2, 'tp': 4, axis_types=(Auto, Auto)), spec=PartitionSpec('tp',), memory_kind=device)}}, 39: {'attn': {'k_norm': {'w': NamedSharding(mesh=Mesh('fsdp': 2, 'tp': 4, axis_types=(Auto, Auto)), spec=PartitionSpec('tp',), memory_kind=device)}, 'k_proj': {'w': NamedSharding(mesh=Mesh('fsdp': 2, 'tp': 4, axis_types=(Auto, Auto)), spec=PartitionSpec('tp', 'fsdp', None), memory_kind=device)}, 'o_proj': {'w': NamedSharding(mesh=Mesh('fsdp': 2, 'tp': 4, axis_types=(Auto, Auto)), spec=PartitionSpec('tp', None, 'fsdp'), memory_kind=device)}, 'q_norm': {'w': NamedSharding(mesh=Mesh('fsdp': 2, 'tp': 4, axis_types=(Auto, Auto)), spec=PartitionSpec('tp',), memory_kind=device)}, 'q_proj': {'w': NamedSharding(mesh=Mesh('fsdp': 2, 'tp': 4, axis_types=(Auto, Auto)), spec=PartitionSpec('tp', 'fsdp', None), memory_kind=device)}, 'v_proj': {'w': NamedSharding(mesh=Mesh('fsdp': 2, 'tp': 4, axis_types=(Auto, Auto)), spec=PartitionSpec('tp', 'fsdp', None), memory_kind=device)}}, 'input_layernorm': {'w': NamedSharding(mesh=Mesh('fsdp': 2, 'tp': 4, axis_types=(Auto, Auto)), spec=PartitionSpec('tp',), memory_kind=device)}, 'mlp': {'down_proj': {'kernel': NamedSharding(mesh=Mesh('fsdp': 2, 'tp': 4, axis_types=(Auto, Auto)), spec=PartitionSpec('tp', 'fsdp'), memory_kind=device)}, 'gate_proj': {'kernel': NamedSharding(mesh=Mesh('fsdp': 2, 'tp': 4, axis_types=(Auto, Auto)), spec=PartitionSpec('fsdp', 'tp'), memory_kind=device)}, 'up_proj': {'kernel': NamedSharding(mesh=Mesh('fsdp': 2, 'tp': 4, axis_types=(Auto, Auto)), spec=PartitionSpec('fsdp', 'tp'), memory_kind=device)}}, 'post_attention_layernorm': {'w': NamedSharding(mesh=Mesh('fsdp': 2, 'tp': 4, axis_types=(Auto, Auto)), spec=PartitionSpec('tp',), memory_kind=device)}}}, 'lm_head': {'w': NamedSharding(mesh=Mesh('fsdp': 2, 'tp': 4, axis_types=(Auto, Auto)), spec=PartitionSpec('fsdp', 'tp'), memory_kind=device)}}\n"
     ]
    }
   ],
   "source": [
    "\n",
    "# This is a workaround. The checkpoints on Kaggle don't work with NNX. So, we\n",
    "# load the model, save the checkpoint locally, and then reload the model\n",
    "# (sharded).\n",
    "\n",
    "mesh = jax.make_mesh((2, len(jax.devices())//2), ('fsdp', 'tp'))\n",
    "model_config = model_lib.ModelConfig.qwen3_14_b()\n",
    "qwen3 = params_lib.create_model_from_safe_tensors(kaggle_ckpt_path, model_config, mesh=mesh)\n",
    "tokenizer = AutoTokenizer.from_pretrained(kaggle_ckpt_path)"
   ]
  },
  {
   "cell_type": "code",
   "execution_count": 19,
   "id": "289da086",
   "metadata": {},
   "outputs": [
    {
     "name": "stdout",
     "output_type": "stream",
     "text": [
      "HBM Usage: 0.00%, Total: 31.25 GB, Used: 0.00 GB\n"
     ]
    }
   ],
   "source": [
    "print_hbm_usage()"
   ]
  },
  {
   "cell_type": "code",
   "execution_count": null,
   "id": "146f2911",
   "metadata": {},
   "outputs": [],
   "source": [
    "MAX_PROMPT_LENGTH = 10000\n",
    "MAX_RESPONSE_LENGTH = 10000\n",
    "# gemma_tokenizer = data_lib.GemmaTokenizer()\n",
    "sampler = sampler_lib.Sampler(\n",
    "    transformer=qwen3,\n",
    "    tokenizer=tokenizer,\n",
    "    cache_config=sampler_lib.CacheConfig(\n",
    "        cache_size=MAX_PROMPT_LENGTH + MAX_RESPONSE_LENGTH + 256, # got from /home/annyan_google_com/development/rllm/rllm/engine/agent_execution_engine.py\n",
    "        num_layers=model_config.num_layers,\n",
    "        num_kv_heads=model_config.num_kv_heads,\n",
    "        head_dim=model_config.head_dim,\n",
    "    ),\n",
    ")\n",
    "\n",
    "def templatize(prompts):\n",
    "  out = []\n",
    "  for p in prompts:\n",
    "    out.append(\n",
    "        tokenizer.apply_chat_template(\n",
    "          [\n",
    "              {\"role\": \"user\", \"content\": p},\n",
    "          ],\n",
    "          tokenize=False,\n",
    "          add_generation_prompt=True,\n",
    "          enable_thinking=True,\n",
    "      )\n",
    "    )\n",
    "  return out\n",
    "\n",
    "def generate_model_response(input) -> str:\n",
    "    out_data = sampler(\n",
    "        templatize([input]),\n",
    "        max_prompt_length=MAX_PROMPT_LENGTH,\n",
    "        total_generation_steps=MAX_RESPONSE_LENGTH,\n",
    "        temperature=0.9,\n",
    "        top_k=50,\n",
    "        top_p=0.95,\n",
    "        echo=False,\n",
    "        seed=jax.random.PRNGKey(0)\n",
    "    )\n",
    "    output = out_data.text\n",
    "    return output[0]"
   ]
  },
  {
   "cell_type": "code",
   "execution_count": null,
   "id": "92f7a487",
   "metadata": {},
   "outputs": [],
   "source": [
    "generate_model_response(\"which is bigger, the sun or the moon? return me some real statistics.\")"
   ]
  },
  {
   "cell_type": "code",
   "execution_count": null,
   "id": "441e641f",
   "metadata": {},
   "outputs": [],
   "source": [
    "# to start a k8s pod with an entry\n",
    "# because I want to use cached pod, so I will skip executing this cell most of the time, unless I want to start a new pod\n",
    "runtime = DockerRuntime(ds=entries[0], command=[\"/bin/bash\", \"-l\"], logger=get_logger(), backend=\"kubernetes\", id=IDS[0])"
   ]
  },
  {
   "cell_type": "code",
   "execution_count": null,
   "id": "6796a29f",
   "metadata": {},
   "outputs": [],
   "source": [
    "# query one pod name, which is previously created\n",
    "pod = k8s_client.read_namespaced_pod(namespace=\"default\", name=IDS[0], _request_timeout=60)\n",
    "print(pod.status.container_statuses[0])"
   ]
  },
  {
   "cell_type": "code",
   "execution_count": null,
   "id": "d661230e",
   "metadata": {},
   "outputs": [],
   "source": [
    "\n",
    "from tunix.experimental.deep_swe.scripts.swe_agent import SWEAgent\n",
    "from tunix.experimental.deep_swe.scripts.swe_env import SWEEnv"
   ]
  },
  {
   "cell_type": "code",
   "execution_count": null,
   "id": "ae3bb65b",
   "metadata": {},
   "outputs": [],
   "source": [
    "agent = SWEAgent(\n",
    ")\n",
    "env = SWEEnv(entry=entries[0])"
   ]
  },
  {
   "cell_type": "code",
   "execution_count": null,
   "id": "ee978ee3",
   "metadata": {},
   "outputs": [],
   "source": [
    "observation, info = env.reset()"
   ]
  },
  {
   "cell_type": "code",
   "execution_count": null,
   "id": "b499118c",
   "metadata": {},
   "outputs": [],
   "source": [
    "# pprint(f\"observation: {observation}\")\n",
    "# pprint(f\"info: {info}\")\n",
    "agent.reset()"
   ]
  },
  {
   "cell_type": "code",
   "execution_count": null,
   "id": "8c52abb5",
   "metadata": {},
   "outputs": [],
   "source": [
    "parser = ChatTemplateParser.get_parser(tokenizer, disable_thinking=False)"
   ]
  },
  {
   "cell_type": "code",
   "execution_count": null,
   "id": "2d897bfa",
   "metadata": {},
   "outputs": [],
   "source": [
    "agent.update_from_env(\n",
    "            observation=observation,  # Raw observation from environment\n",
    "            reward=0.0,\n",
    "            done=False,\n",
    "            info=info,\n",
    "        )\n",
    "prompt_messages = agent.chat_completions.copy()\n",
    "prompt_str = parser.parse(prompt_messages, add_generation_prompt=True, is_first_msg=True)\n",
    "response = generate_model_response(prompt_str)\n",
    "\n"
   ]
  },
  {
   "cell_type": "code",
   "execution_count": null,
   "id": "e23e0a7d",
   "metadata": {},
   "outputs": [],
   "source": []
  },
  {
   "cell_type": "code",
   "execution_count": null,
   "id": "11f0dae1",
   "metadata": {},
   "outputs": [],
   "source": [
    "response"
   ]
  },
  {
   "cell_type": "code",
   "execution_count": null,
   "id": "7e73c4fa",
   "metadata": {},
   "outputs": [],
   "source": [
    "pattern = re.compile(r\"(?s)(<function=.*?</function>)\")\n",
    "match = pattern.search(response)"
   ]
  },
  {
   "cell_type": "code",
   "execution_count": null,
   "id": "2695cb04",
   "metadata": {},
   "outputs": [],
   "source": [
    "match.group(1)"
   ]
  },
  {
   "cell_type": "code",
   "execution_count": null,
   "id": "fa3084e7",
   "metadata": {},
   "outputs": [],
   "source": [
    "action = agent.update_from_model(response)\n",
    "pprint(f\"action before: {action}\")\n",
    "action = action.action\n",
    "pprint(f\"action after: {action}\")"
   ]
  },
  {
   "cell_type": "code",
   "execution_count": null,
   "id": "59ce1396",
   "metadata": {},
   "outputs": [],
   "source": [
    "next_observation, reward, done, info = env.step(action)"
   ]
  },
  {
   "cell_type": "code",
   "execution_count": null,
   "id": "fe3192ec",
   "metadata": {},
   "outputs": [],
   "source": [
    "pprint(next_observation)\n",
    "pprint(reward)\n",
    "pprint(done)\n",
    "pprint(info)"
   ]
  },
  {
   "cell_type": "code",
   "execution_count": 33,
   "id": "96da2658",
   "metadata": {},
   "outputs": [],
   "source": [
    "from tunix.experimental.deep_swe.rllm.environments.swe.swe import SWEEnv\n",
    "from tunix.experimental.deep_swe.rllm.agents.swe_agent import SWEAgent\n",
    "from tunix.experimental.deep_swe.rllm.engine.agent_execution_engine import AgentExecutionEngine\n",
    "from concurrent.futures import ThreadPoolExecutor, as_completed"
   ]
  },
  {
   "cell_type": "code",
   "execution_count": 29,
   "id": "97f8bb4f",
   "metadata": {},
   "outputs": [],
   "source": [
    "dataset = entries[:5] # change to any number of entries you want to process\n"
   ]
  },
  {
   "cell_type": "code",
   "execution_count": 31,
   "id": "5d741497",
   "metadata": {},
   "outputs": [],
   "source": [
    "def _create_env(idx):\n",
    "    entry = dataset[idx]\n",
    "    return idx, SWEEnv(\n",
    "        entry = entry,\n",
    "        idx = idx\n",
    "    )\n",
    "def _create_agent(idx):\n",
    "    return idx, SWEAgent()\n",
    "agents = [None] * len(dataset)\n",
    "envs = [None] * len(dataset)\n",
    "with ThreadPoolExecutor(max_workers=8) as executor:\n",
    "    env_futures = [executor.submit(_create_env, i) for i in range(len(dataset))]\n",
    "    for future in as_completed(env_futures):\n",
    "        idx, env = future.result()\n",
    "        envs[idx] = env\n",
    "with ThreadPoolExecutor(max_workers=64) as executor:\n",
    "    agent_futures = [executor.submit(_create_agent, i) for i in range(len(envs))]\n",
    "    for future in as_completed(agent_futures):\n",
    "        idx, agent = future.result()\n",
    "        agents[idx] = agent"
   ]
  },
  {
   "cell_type": "code",
   "execution_count": 34,
   "id": "9c9069fc",
   "metadata": {},
   "outputs": [
    {
     "name": "stdout",
     "output_type": "stream",
     "text": [
      "model_name: /mnt/disks/extra-disk/cache/models/qwen-lm/qwen-3/transformers/14b/1, tokenizer_cls: qwen2tokenizerfast\n",
      "Using QwenChatTemplateParser for /mnt/disks/extra-disk/cache/models/qwen-lm/qwen-3/transformers/14b/1\n"
     ]
    }
   ],
   "source": [
    "agent_execution_engine = AgentExecutionEngine(\n",
    "    qwen3=qwen3,\n",
    "    model_config=model_config,\n",
    "    tokenizer=tokenizer,\n",
    ")"
   ]
  },
  {
   "cell_type": "code",
   "execution_count": 35,
   "id": "2a28418d",
   "metadata": {},
   "outputs": [
    {
     "name": "stdout",
     "output_type": "stream",
     "text": [
      "Total tasks to run: 5\n"
     ]
    }
   ],
   "source": [
    "agent_execution_engine.update_envs_and_agents(envs, agents)"
   ]
  },
  {
   "cell_type": "code",
   "execution_count": null,
   "id": "9ef35a8f",
   "metadata": {},
   "outputs": [
    {
     "name": "stdout",
     "output_type": "stream",
     "text": [
      "Running 5 trajectories with max concurrency of 5...\n",
      "Using container name: b9035425-a50f-49de-87bb-5ab659a0ef4f for Kubernetes pod\n",
      "Using container name: a9c8a558-43ac-4da0-bd06-2d49e145e23f for Kubernetes pod\n",
      "Using container name: 3a8befaa-d69d-4b24-99ba-fd99951ac51d for Kubernetes pod\n",
      "Using container name: a9888942-618c-4b58-932c-505abf0585ba for Kubernetes pod\n",
      "Using container name: 71d5d244-b9ad-4974-a90d-2365f3878932 for Kubernetes pod\n"
     ]
    }
   ],
   "source": [
    "trajectories = []\n",
    "async for trajectory in agent_execution_engine.trajectory_generator():\n",
    "    print(trajectory)\n",
    "    trajectories.append(trajectory)"
   ]
  }
 ],
 "metadata": {
  "kernelspec": {
   "display_name": "r2egym_tunix_venv",
   "language": "python",
   "name": "python3"
  },
  "language_info": {
   "codemirror_mode": {
    "name": "ipython",
    "version": 3
   },
   "file_extension": ".py",
   "mimetype": "text/x-python",
   "name": "python",
   "nbconvert_exporter": "python",
   "pygments_lexer": "ipython3",
   "version": "3.10.12"
  }
 },
 "nbformat": 4,
 "nbformat_minor": 5
}

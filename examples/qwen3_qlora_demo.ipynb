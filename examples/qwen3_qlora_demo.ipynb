{
 "cells": [
  {
   "cell_type": "markdown",
   "id": "d9f789d7",
   "metadata": {},
   "source": [
    "# QLoRA Demo Notebook\n",
    "\n",
    "In this tutorial, we fine-tune the Qwen3 2B and 14B model using Low Rank Adaptation(LoRA), a parameter-efficient way of finetuning LLMs.\n",
    "\n",
    "LoRA works by freezing the original weights of the pre-trained model and\n",
    "injecting trainable low-rank matrices into each layer of the Transformer\n",
    "architecture. During fine-tuning, only these newly introduced low-rank matrices\n",
    "are updated, greatly decreasing the computational and memory resources required\n",
    "compared to traditional full fine-tuning. This approach is based on the\n",
    "observation that the changes in model weights needed for adaptation often have a\n",
    "low rank. The benefits of using LoRA include reduced GPU memory usage, faster\n",
    "training times, and the advantage that, after training, the LoRA adapters can be\n",
    "merged with the original model weights, resulting in no additional inference\n",
    "latency."
   ]
  },
  {
   "cell_type": "markdown",
   "id": "19a40419",
   "metadata": {},
   "source": [
    "## Install necessary libraries"
   ]
  },
  {
   "cell_type": "code",
   "execution_count": null,
   "id": "e168ca4e",
   "metadata": {},
   "outputs": [],
   "source": [
    "!pip install -q kagglehub\n",
    "\n",
    "!pip install -q tensorflow\n",
    "!pip install -q tensorflow_datasets\n",
    "!pip install -q tensorboardX\n",
    "!pip install -q grain\n",
    "!pip install -q git+https://github.com/google/tunix\n",
    "!pip install -q git+https://github.com/google/qwix\n",
    "\n",
    "!pip uninstall -q -y flax\n",
    "!pip install -q git+https://github.com/google/flax.git\n",
    "\n",
    "!pip install -q datasets"
   ]
  },
  {
   "cell_type": "code",
   "execution_count": null,
   "id": "b415d977",
   "metadata": {},
   "outputs": [
    {
     "name": "stdout",
     "output_type": "stream",
     "text": [
      "Looking in links: https://storage.googleapis.com/jax-releases/libtpu_releases.html\n",
      "Requirement already satisfied: jax==0.7.1 in /home/linchai_google_com/miniconda3/envs/qwen/lib/python3.12/site-packages (from jax[tpu]==0.7.1) (0.7.1)\n",
      "Requirement already satisfied: jaxlib<=0.7.1,>=0.7.1 in /home/linchai_google_com/miniconda3/envs/qwen/lib/python3.12/site-packages (from jax==0.7.1->jax[tpu]==0.7.1) (0.7.1)\n",
      "Requirement already satisfied: ml_dtypes>=0.5.0 in /home/linchai_google_com/miniconda3/envs/qwen/lib/python3.12/site-packages (from jax==0.7.1->jax[tpu]==0.7.1) (0.5.3)\n",
      "Requirement already satisfied: numpy>=1.26 in /home/linchai_google_com/miniconda3/envs/qwen/lib/python3.12/site-packages (from jax==0.7.1->jax[tpu]==0.7.1) (2.3.3)\n",
      "Requirement already satisfied: opt_einsum in /home/linchai_google_com/miniconda3/envs/qwen/lib/python3.12/site-packages (from jax==0.7.1->jax[tpu]==0.7.1) (3.4.0)\n",
      "Requirement already satisfied: scipy>=1.12 in /home/linchai_google_com/miniconda3/envs/qwen/lib/python3.12/site-packages (from jax==0.7.1->jax[tpu]==0.7.1) (1.16.1)\n",
      "Requirement already satisfied: libtpu==0.0.20.* in /home/linchai_google_com/miniconda3/envs/qwen/lib/python3.12/site-packages (from jax[tpu]==0.7.1) (0.0.20)\n",
      "Requirement already satisfied: requests in /home/linchai_google_com/miniconda3/envs/qwen/lib/python3.12/site-packages (from jax[tpu]==0.7.1) (2.32.5)\n",
      "Requirement already satisfied: charset_normalizer<4,>=2 in /home/linchai_google_com/miniconda3/envs/qwen/lib/python3.12/site-packages (from requests->jax[tpu]==0.7.1) (3.4.3)\n",
      "Requirement already satisfied: idna<4,>=2.5 in /home/linchai_google_com/miniconda3/envs/qwen/lib/python3.12/site-packages (from requests->jax[tpu]==0.7.1) (3.10)\n",
      "Requirement already satisfied: urllib3<3,>=1.21.1 in /home/linchai_google_com/miniconda3/envs/qwen/lib/python3.12/site-packages (from requests->jax[tpu]==0.7.1) (2.5.0)\n",
      "Requirement already satisfied: certifi>=2017.4.17 in /home/linchai_google_com/miniconda3/envs/qwen/lib/python3.12/site-packages (from requests->jax[tpu]==0.7.1) (2025.8.3)\n"
     ]
    },
    {
     "ename": "NameError",
     "evalue": "name 'os' is not defined",
     "output_type": "error",
     "traceback": [
      "\u001b[31m---------------------------------------------------------------------------\u001b[39m",
      "\u001b[31mNameError\u001b[39m                                 Traceback (most recent call last)",
      "\u001b[36mCell\u001b[39m\u001b[36m \u001b[39m\u001b[32mIn[2]\u001b[39m\u001b[32m, line 2\u001b[39m\n\u001b[32m      1\u001b[39m get_ipython().system(\u001b[33m'\u001b[39m\u001b[33mpip install \u001b[39m\u001b[33m\"\u001b[39m\u001b[33mjax[tpu]==0.7.1\u001b[39m\u001b[33m\"\u001b[39m\u001b[33m -f https://storage.googleapis.com/jax-releases/libtpu_releases.html\u001b[39m\u001b[33m'\u001b[39m)\n\u001b[32m----> \u001b[39m\u001b[32m2\u001b[39m \u001b[43mos\u001b[49m.environ[\u001b[33m'\u001b[39m\u001b[33mTPU_LIBRARY_PATH\u001b[39m\u001b[33m'\u001b[39m] = \u001b[33m'\u001b[39m\u001b[33m/home/linchai_google_com/miniconda3/envs/qwen/lib/python3.12/site-packages/libtpu/libtpu.so\u001b[39m\u001b[33m'\u001b[39m\n",
      "\u001b[31mNameError\u001b[39m: name 'os' is not defined"
     ]
    }
   ],
   "source": [
    "!pip install \"jax[tpu]==0.7.1\" -f https://storage.googleapis.com/jax-releases/libtpu_releases.html"
   ]
  },
  {
   "cell_type": "code",
   "execution_count": 1,
   "id": "c297b867",
   "metadata": {},
   "outputs": [],
   "source": [
    "import os\n",
    "\n",
    "os.environ['TPU_LIBRARY_PATH'] = '/home/linchai_google_com/miniconda3/envs/qwen/lib/python3.12/site-packages/libtpu/libtpu.so'"
   ]
  },
  {
   "cell_type": "code",
   "execution_count": 4,
   "id": "db86806e",
   "metadata": {},
   "outputs": [
    {
     "name": "stdout",
     "output_type": "stream",
     "text": [
      "Requirement already satisfied: wandb in /home/linchai_google_com/miniconda3/envs/qwen/lib/python3.12/site-packages (0.21.3)\n",
      "Requirement already satisfied: click>=8.0.1 in /home/linchai_google_com/miniconda3/envs/qwen/lib/python3.12/site-packages (from wandb) (8.2.1)\n",
      "Requirement already satisfied: gitpython!=3.1.29,>=1.0.0 in /home/linchai_google_com/miniconda3/envs/qwen/lib/python3.12/site-packages (from wandb) (3.1.45)\n",
      "Requirement already satisfied: packaging in /home/linchai_google_com/miniconda3/envs/qwen/lib/python3.12/site-packages (from wandb) (25.0)\n",
      "Requirement already satisfied: platformdirs in /home/linchai_google_com/miniconda3/envs/qwen/lib/python3.12/site-packages (from wandb) (4.4.0)\n",
      "Requirement already satisfied: protobuf!=4.21.0,!=5.28.0,<7,>=3.19.0 in /home/linchai_google_com/miniconda3/envs/qwen/lib/python3.12/site-packages (from wandb) (6.32.0)\n",
      "Requirement already satisfied: pydantic<3 in /home/linchai_google_com/miniconda3/envs/qwen/lib/python3.12/site-packages (from wandb) (2.11.7)\n",
      "Requirement already satisfied: pyyaml in /home/linchai_google_com/miniconda3/envs/qwen/lib/python3.12/site-packages (from wandb) (6.0.2)\n",
      "Requirement already satisfied: requests<3,>=2.0.0 in /home/linchai_google_com/miniconda3/envs/qwen/lib/python3.12/site-packages (from wandb) (2.32.5)\n",
      "Requirement already satisfied: sentry-sdk>=2.0.0 in /home/linchai_google_com/miniconda3/envs/qwen/lib/python3.12/site-packages (from wandb) (2.37.1)\n",
      "Requirement already satisfied: typing-extensions<5,>=4.8 in /home/linchai_google_com/miniconda3/envs/qwen/lib/python3.12/site-packages (from wandb) (4.15.0)\n",
      "Requirement already satisfied: annotated-types>=0.6.0 in /home/linchai_google_com/miniconda3/envs/qwen/lib/python3.12/site-packages (from pydantic<3->wandb) (0.7.0)\n",
      "Requirement already satisfied: pydantic-core==2.33.2 in /home/linchai_google_com/miniconda3/envs/qwen/lib/python3.12/site-packages (from pydantic<3->wandb) (2.33.2)\n",
      "Requirement already satisfied: typing-inspection>=0.4.0 in /home/linchai_google_com/miniconda3/envs/qwen/lib/python3.12/site-packages (from pydantic<3->wandb) (0.4.1)\n",
      "Requirement already satisfied: charset_normalizer<4,>=2 in /home/linchai_google_com/miniconda3/envs/qwen/lib/python3.12/site-packages (from requests<3,>=2.0.0->wandb) (3.4.3)\n",
      "Requirement already satisfied: idna<4,>=2.5 in /home/linchai_google_com/miniconda3/envs/qwen/lib/python3.12/site-packages (from requests<3,>=2.0.0->wandb) (3.10)\n",
      "Requirement already satisfied: urllib3<3,>=1.21.1 in /home/linchai_google_com/miniconda3/envs/qwen/lib/python3.12/site-packages (from requests<3,>=2.0.0->wandb) (2.5.0)\n",
      "Requirement already satisfied: certifi>=2017.4.17 in /home/linchai_google_com/miniconda3/envs/qwen/lib/python3.12/site-packages (from requests<3,>=2.0.0->wandb) (2025.8.3)\n",
      "Requirement already satisfied: gitdb<5,>=4.0.1 in /home/linchai_google_com/miniconda3/envs/qwen/lib/python3.12/site-packages (from gitpython!=3.1.29,>=1.0.0->wandb) (4.0.12)\n",
      "Requirement already satisfied: smmap<6,>=3.0.1 in /home/linchai_google_com/miniconda3/envs/qwen/lib/python3.12/site-packages (from gitdb<5,>=4.0.1->gitpython!=3.1.29,>=1.0.0->wandb) (5.0.2)\n"
     ]
    },
    {
     "name": "stderr",
     "output_type": "stream",
     "text": [
      "\u001b[34m\u001b[1mwandb\u001b[0m: Currently logged in as: \u001b[33mlinchai\u001b[0m (\u001b[33mlinchai-google\u001b[0m) to \u001b[32mhttps://api.wandb.ai\u001b[0m. Use \u001b[1m`wandb login --relogin`\u001b[0m to force relogin\n"
     ]
    },
    {
     "data": {
      "text/plain": [
       "True"
      ]
     },
     "execution_count": 4,
     "metadata": {},
     "output_type": "execute_result"
    }
   ],
   "source": [
    "# If you want to upload your metrics to Weights & Biases, please install the package and login. Make sure to install `wandb` before importing `tunix`.\n",
    "!pip install wandb\n",
    "\n",
    "import wandb\n",
    "\n",
    "wandb.login()"
   ]
  },
  {
   "cell_type": "code",
   "execution_count": 5,
   "id": "b4511bd3",
   "metadata": {},
   "outputs": [
    {
     "name": "stdout",
     "output_type": "stream",
     "text": [
      "Requirement already satisfied: safetensors in /home/linchai_google_com/miniconda3/envs/qwen/lib/python3.12/site-packages (0.6.2)\n",
      "Requirement already satisfied: transformers in /home/linchai_google_com/miniconda3/envs/qwen/lib/python3.12/site-packages (4.56.1)\n",
      "Requirement already satisfied: filelock in /home/linchai_google_com/miniconda3/envs/qwen/lib/python3.12/site-packages (from transformers) (3.19.1)\n",
      "Requirement already satisfied: huggingface-hub<1.0,>=0.34.0 in /home/linchai_google_com/miniconda3/envs/qwen/lib/python3.12/site-packages (from transformers) (0.34.4)\n",
      "Requirement already satisfied: numpy>=1.17 in /home/linchai_google_com/miniconda3/envs/qwen/lib/python3.12/site-packages (from transformers) (2.3.3)\n",
      "Requirement already satisfied: packaging>=20.0 in /home/linchai_google_com/miniconda3/envs/qwen/lib/python3.12/site-packages (from transformers) (25.0)\n",
      "Requirement already satisfied: pyyaml>=5.1 in /home/linchai_google_com/miniconda3/envs/qwen/lib/python3.12/site-packages (from transformers) (6.0.2)\n",
      "Requirement already satisfied: regex!=2019.12.17 in /home/linchai_google_com/miniconda3/envs/qwen/lib/python3.12/site-packages (from transformers) (2025.9.1)\n",
      "Requirement already satisfied: requests in /home/linchai_google_com/miniconda3/envs/qwen/lib/python3.12/site-packages (from transformers) (2.32.5)\n",
      "Requirement already satisfied: tokenizers<=0.23.0,>=0.22.0 in /home/linchai_google_com/miniconda3/envs/qwen/lib/python3.12/site-packages (from transformers) (0.22.0)\n",
      "Requirement already satisfied: safetensors>=0.4.3 in /home/linchai_google_com/miniconda3/envs/qwen/lib/python3.12/site-packages (from transformers) (0.6.2)\n",
      "Requirement already satisfied: tqdm>=4.27 in /home/linchai_google_com/miniconda3/envs/qwen/lib/python3.12/site-packages (from transformers) (4.67.1)\n",
      "Requirement already satisfied: fsspec>=2023.5.0 in /home/linchai_google_com/miniconda3/envs/qwen/lib/python3.12/site-packages (from huggingface-hub<1.0,>=0.34.0->transformers) (2025.3.0)\n",
      "Requirement already satisfied: typing-extensions>=3.7.4.3 in /home/linchai_google_com/miniconda3/envs/qwen/lib/python3.12/site-packages (from huggingface-hub<1.0,>=0.34.0->transformers) (4.15.0)\n",
      "Requirement already satisfied: hf-xet<2.0.0,>=1.1.3 in /home/linchai_google_com/miniconda3/envs/qwen/lib/python3.12/site-packages (from huggingface-hub<1.0,>=0.34.0->transformers) (1.1.9)\n",
      "Requirement already satisfied: charset_normalizer<4,>=2 in /home/linchai_google_com/miniconda3/envs/qwen/lib/python3.12/site-packages (from requests->transformers) (3.4.3)\n",
      "Requirement already satisfied: idna<4,>=2.5 in /home/linchai_google_com/miniconda3/envs/qwen/lib/python3.12/site-packages (from requests->transformers) (3.10)\n",
      "Requirement already satisfied: urllib3<3,>=1.21.1 in /home/linchai_google_com/miniconda3/envs/qwen/lib/python3.12/site-packages (from requests->transformers) (2.5.0)\n",
      "Requirement already satisfied: certifi>=2017.4.17 in /home/linchai_google_com/miniconda3/envs/qwen/lib/python3.12/site-packages (from requests->transformers) (2025.8.3)\n"
     ]
    }
   ],
   "source": [
    "!pip install safetensors\n",
    "!pip install transformers"
   ]
  },
  {
   "cell_type": "markdown",
   "id": "498af0a7",
   "metadata": {},
   "source": [
    "## Hyperparameters"
   ]
  },
  {
   "cell_type": "code",
   "execution_count": 2,
   "id": "bca0e9f4",
   "metadata": {},
   "outputs": [],
   "source": [
    "# Data\n",
    "BATCH_SIZE = 16\n",
    "\n",
    "# Model\n",
    "MESH = [(1, 1), (\"fsdp\", \"tp\")]\n",
    "# LoRA\n",
    "RANK = 16\n",
    "ALPHA = 2.0\n",
    "\n",
    "# Train\n",
    "MAX_STEPS = 100\n",
    "EVAL_EVERY_N_STEPS = 20\n",
    "NUM_EPOCHS = 3\n",
    "\n",
    "\n",
    "# Checkpoint saving\n",
    "INTERMEDIATE_CKPT_DIR = \"/tmp/content/intermediate_ckpt/\"\n",
    "CKPT_DIR = \"/tmp/content/ckpts/\"\n",
    "PROFILING_DIR = \"/tmp/content/profiling/\""
   ]
  },
  {
   "cell_type": "code",
   "execution_count": 3,
   "id": "401a4ed5",
   "metadata": {},
   "outputs": [],
   "source": [
    "import os\n",
    "import logging\n",
    "import sys\n",
    "def create_dir(path):\n",
    "  try:\n",
    "    os.makedirs(path, exist_ok=True)\n",
    "    logging.info(f\"Created dir: {path}\")\n",
    "  except OSError as e:\n",
    "    logging.error(f\"Error creating directory '{path}': {e}\")\n",
    "\n",
    "\n",
    "create_dir(INTERMEDIATE_CKPT_DIR)\n",
    "create_dir(CKPT_DIR)\n",
    "create_dir(PROFILING_DIR)"
   ]
  },
  {
   "cell_type": "markdown",
   "id": "82339b1a",
   "metadata": {},
   "source": [
    "# Download the weights from Kaggle"
   ]
  },
  {
   "cell_type": "code",
   "execution_count": 4,
   "id": "4d871ed0",
   "metadata": {},
   "outputs": [
    {
     "data": {
      "application/vnd.jupyter.widget-view+json": {
       "model_id": "25e2d9bee01b48dcab7ddfac06bfb761",
       "version_major": 2,
       "version_minor": 0
      },
      "text/plain": [
       "VBox(children=(HTML(value='<center> <img\\nsrc=https://www.kaggle.com/static/images/site-logo.png\\nalt=\\'Kaggle…"
      ]
     },
     "metadata": {},
     "output_type": "display_data"
    }
   ],
   "source": [
    "import os\n",
    "import kagglehub\n",
    "\n",
    "# Log in\n",
    "if \"KAGGLE_USERNAME\" not in os.environ or \"KAGGLE_KEY\" not in os.environ:\n",
    "  kagglehub.login()\n",
    "\n",
    "# alternatively place kaggle.json under ~/.kaggle/"
   ]
  },
  {
   "cell_type": "code",
   "execution_count": 5,
   "id": "facead42",
   "metadata": {},
   "outputs": [
    {
     "data": {
      "text/plain": [
       "Mesh(axis_sizes=(1, 1), axis_names=('fsdp', 'tp'), axis_types=(Auto, Auto))"
      ]
     },
     "execution_count": 5,
     "metadata": {},
     "output_type": "execute_result"
    }
   ],
   "source": [
    "import jax\n",
    "mesh = jax.make_mesh(*MESH)\n",
    "mesh\n"
   ]
  },
  {
   "cell_type": "code",
   "execution_count": 6,
   "id": "dc5dc7ab",
   "metadata": {},
   "outputs": [
    {
     "name": "stderr",
     "output_type": "stream",
     "text": [
      "/home/linchai_google_com/miniconda3/envs/qwen/lib/python3.12/site-packages/treescope/renderers.py:314: UserWarning: Ignoring error while formatting value of type <class 'flax.nnx.helpers.List'> with <function handle_via_treescope_repr_method at 0x7f16604c0a40>:\n",
      "Traceback (most recent call last):\n",
      "  File \"/home/linchai_google_com/miniconda3/envs/qwen/lib/python3.12/site-packages/treescope/renderers.py\", line 290, in _render_subtree\n",
      "    maybe_result = handler(node=node, path=path, subtree_renderer=rec)\n",
      "                   ^^^^^^^^^^^^^^^^^^^^^^^^^^^^^^^^^^^^^^^^^^^^^^^^^^^\n",
      "  File \"/home/linchai_google_com/miniconda3/envs/qwen/lib/python3.12/site-packages/treescope/_internal/handlers/custom_type_handlers.py\", line 65, in handle_via_treescope_repr_method\n",
      "    return treescope_repr_method(path, subtree_renderer)\n",
      "           ^^^^^^^^^^^^^^^^^^^^^^^^^^^^^^^^^^^^^^^^^^^^^\n",
      "  File \"/home/linchai_google_com/miniconda3/envs/qwen/lib/python3.12/site-packages/flax/nnx/pytreelib.py\", line 702, in __treescope_repr__\n",
      "    if name.startswith('_'):\n",
      "       ^^^^^^^^^^^^^^^\n",
      "AttributeError: 'int' object has no attribute 'startswith'\n",
      "\n",
      "  warnings.warn(\n"
     ]
    },
    {
     "data": {
      "text/html": [
       "<script> (()=>{ if (customElements.get('treescope-container') === undefined) { class TreescopeContainer extends HTMLElement { constructor() { super(); this.attachShadow({mode: \"open\"}); this.defns = {}; this.state = {}; } } customElements.define(\"treescope-container\", TreescopeContainer); } if (customElements.get('treescope-run-here') === undefined) { class RunHere extends HTMLElement { constructor() { super() } connectedCallback() { const run = child => { const fn = new Function(child.textContent); child.textContent = \"\"; fn.call(this); this.remove(); }; const child = this.querySelector(\"script\"); if (child) { run(child); } else { new MutationObserver(()=>{ run(this.querySelector(\"script\")); }).observe(this, {childList: true}); } } } customElements.define(\"treescope-run-here\", RunHere); } })(); </script> <treescope-container class=\"treescope_out_1f8a30e860e6420f9ab33bfc22ff6faf\" style=\"display:block\"></treescope-container> <treescope-run-here><script type=\"application/octet-stream\"> const root = ( Array.from(document.getElementsByClassName( \"treescope_out_1f8a30e860e6420f9ab33bfc22ff6faf\")) .filter((elt) => !elt.dataset.setup) )[0]; root.dataset.setup = 1; const msg = document.createElement(\"span\"); msg.style = \"color: #cccccc; font-family: monospace;\"; msg.textContent = \"(Loading...)\"; root.state.loadingMsg = msg; root.shadowRoot.appendChild(msg); root.state.chain = new Promise((resolve, reject) => { const observer = new IntersectionObserver((entries) => { for (const entry of entries) { if (entry.isIntersecting) { resolve(); observer.disconnect(); return; } } }, {rootMargin: \"1000px\"}); window.setTimeout(() => { observer.observe(root); }, 0); }); root.state.deferring = false; const _insertNode = (node) => { for (let oldScript of node.querySelectorAll(\"script\")) { let newScript = document.createElement(\"script\"); newScript.type = oldScript.type; newScript.textContent = oldScript.textContent; oldScript.parentNode.replaceChild(newScript, oldScript); } if (root.state.loadingMsg) { root.state.loadingMsg.remove(); root.state.loadingMsg = null; } root.shadowRoot.appendChild(node); }; root.defns.insertContent = ((contentNode, compressed) => { if (compressed) { root.state.deferring = true; } if (root.state.deferring) { root.state.chain = (async () => { await root.state.chain; if (compressed) { const encoded = contentNode.textContent; const blob = new Blob([ Uint8Array.from(atob(encoded), (m) => m.codePointAt(0)) ]); const reader = blob.stream().pipeThrough( new DecompressionStream(\"deflate\") ).pipeThrough( new TextDecoderStream(\"utf-8\") ).getReader(); const parts = []; while (true) { const step = await reader.read(); if (step.done) { break; } parts.push(step.value); } const tpl = document.createElement('template'); tpl.innerHTML = parts.join(\"\"); _insertNode(tpl.content); } else { _insertNode(contentNode.content); } })(); } else { _insertNode(contentNode.content); } }); </script></treescope-run-here><div style=\"display:none\"> <script type=\"application/octet-stream\" >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</script> <treescope-run-here><script type=\"application/octet-stream\"> const root = ( Array.from(document.getElementsByClassName( \"treescope_out_1f8a30e860e6420f9ab33bfc22ff6faf\")) .filter((elt) => !elt.dataset['step0']) )[0]; root.dataset['step0'] = 1; root.defns.insertContent( this.parentNode.querySelector('script[type=\"application/octet-stream\"]'), true ); this.parentNode.remove(); </script></treescope-run-here> </div>"
      ],
      "text/plain": [
       "<IPython.core.display.HTML object>"
      ]
     },
     "metadata": {},
     "output_type": "display_data"
    },
    {
     "data": {
      "text/html": [
       "<div style=\"display:none\"> <script type=\"application/octet-stream\" >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</script> <treescope-run-here><script type=\"application/octet-stream\"> const root = ( Array.from(document.getElementsByClassName( \"treescope_out_1f8a30e860e6420f9ab33bfc22ff6faf\")) .filter((elt) => !elt.dataset['step1']) )[0]; root.dataset['step1'] = 1; root.defns.insertContent( this.parentNode.querySelector('script[type=\"application/octet-stream\"]'), true ); this.parentNode.remove(); </script></treescope-run-here> </div>"
      ],
      "text/plain": [
       "<IPython.core.display.HTML object>"
      ]
     },
     "metadata": {},
     "output_type": "display_data"
    }
   ],
   "source": [
    "\n",
    "from flax import nnx\n",
    "import kagglehub\n",
    "from tunix.models.qwen3 import model\n",
    "from tunix.models.qwen3 import params\n",
    "\n",
    "MODEL_CP_PATH = kagglehub.model_download(\"qwen-lm/qwen-3/transformers/0.6b\")\n",
    "\n",
    "config = (\n",
    "    model.ModelConfig.qwen3_0_6b()\n",
    ")  # pick correponding config based on model version\n",
    "qwen3 = params.create_model_from_safe_tensors(MODEL_CP_PATH, config, mesh)\n",
    "nnx.display(qwen3)"
   ]
  },
  {
   "cell_type": "code",
   "execution_count": 7,
   "id": "da2ad45f",
   "metadata": {},
   "outputs": [],
   "source": [
    "\n",
    "from transformers import AutoTokenizer\n",
    "\n",
    "tokenizer = AutoTokenizer.from_pretrained(MODEL_CP_PATH)"
   ]
  },
  {
   "cell_type": "code",
   "execution_count": 8,
   "id": "662dc714",
   "metadata": {},
   "outputs": [],
   "source": [
    "def templatize(prompts):\n",
    "  out = []\n",
    "  for p in prompts:\n",
    "    out.append(\n",
    "        tokenizer.apply_chat_template(\n",
    "            [\n",
    "                {\"role\": \"user\", \"content\": p},\n",
    "            ],\n",
    "            tokenize=False,\n",
    "            add_generation_prompt=True,\n",
    "            enable_thinking=True,\n",
    "        )\n",
    "    )\n",
    "  return out"
   ]
  },
  {
   "cell_type": "code",
   "execution_count": 9,
   "id": "686fc4aa",
   "metadata": {},
   "outputs": [
    {
     "data": {
      "text/plain": [
       "[TpuDevice(id=0, process_index=0, coords=(0,0,0), core_on_chip=0),\n",
       " TpuDevice(id=1, process_index=0, coords=(0,0,0), core_on_chip=1),\n",
       " TpuDevice(id=2, process_index=0, coords=(1,0,0), core_on_chip=0),\n",
       " TpuDevice(id=3, process_index=0, coords=(1,0,0), core_on_chip=1),\n",
       " TpuDevice(id=4, process_index=0, coords=(0,1,0), core_on_chip=0),\n",
       " TpuDevice(id=5, process_index=0, coords=(0,1,0), core_on_chip=1),\n",
       " TpuDevice(id=6, process_index=0, coords=(1,1,0), core_on_chip=0),\n",
       " TpuDevice(id=7, process_index=0, coords=(1,1,0), core_on_chip=1)]"
      ]
     },
     "execution_count": 9,
     "metadata": {},
     "output_type": "execute_result"
    }
   ],
   "source": [
    "jax.devices()"
   ]
  },
  {
   "cell_type": "code",
   "execution_count": null,
   "id": "a2baaa74",
   "metadata": {},
   "outputs": [
    {
     "name": "stdout",
     "output_type": "stream",
     "text": [
      "<|im_start|>user\n",
      "which is larger 9.9 or 9.11?<|im_end|>\n",
      "<|im_start|>assistant\n",
      "<think>\n",
      "Okay, so I need to figure out which number is larger between 9.9 and 9.11. Let me think. Both numbers are in decimal form, right? 9.9 and 9.11. Hmm, decimal numbers can be tricky sometimes, but I remember that when comparing decimals, you can look at the digits from left to right, starting with the first non-zero digit. \n",
      "\n",
      "First, let me write them down to visualize better: 9.9 and 9.11. Both start with a 9. So, the first digit after the decimal is the tenths\n",
      "******************************\n",
      "<|im_start|>user\n",
      "如何制作月饼?<|im_end|>\n",
      "<|im_start|>assistant\n",
      "<think>\n",
      "好的，用户问如何制作月饼。首先，我需要确定用户的需求是什么。可能他们想了解基本的步骤，或者有特定的口味偏好，比如是否需要使用模具，或者是否需要特别的装饰。用户可能对月饼的制作流程不太熟悉，或者有时间限制，需要快速指导。\n",
      "\n",
      "接下来，我应该考虑月饼的种类。用户可能想知道不同种类的制作方法，比如传统的中式月饼和一些创新的口味。但问题中没有提到，所以可能需要先给出通用的步骤，然后询问是否需要更详细的信息。\n",
      "\n",
      "然后，我需要确保回答的结构清晰，分\n",
      "******************************\n",
      "<|im_start|>user\n",
      "tell me your name, respond in Chinese<|im_end|>\n",
      "<|im_start|>assistant\n",
      "<think>\n",
      "好的，用户让我告诉他们我的名字，并且要以中文回答。首先，我需要确认用户的需求是什么。他们可能是在测试我的中文能力，或者想了解我的身份。不过，作为AI助手，我应该保持专业和友好，同时确保回答准确。\n",
      "\n",
      "接下来，我需要考虑用户可能的背景。他们可能对我的名字不太熟悉，或者想确认我的身份。这时候，直接回答名字是合适的，但也要注意语气，避免显得生硬。同时，要确保回答简洁明了，符合中文表达习惯。\n",
      "\n",
      "另外，用户可能没有明确说明是否需要其他帮助，但根据\n",
      "******************************\n"
     ]
    }
   ],
   "source": [
    "from tunix.generate import sampler\n",
    "\n",
    "inputs = templatize([\n",
    "    \"which is larger 9.9 or 9.11?\",\n",
    "    \"如何制作月饼?\",\n",
    "    \"tell me your name, respond in Chinese\",\n",
    "])\n",
    "\n",
    "sampler = sampler.Sampler(\n",
    "    qwen3,\n",
    "    tokenizer,\n",
    "    sampler.CacheConfig(\n",
    "        cache_size=256, num_layers=28, num_kv_heads=8, head_dim=128\n",
    "    ),\n",
    ")\n",
    "out = sampler(inputs, max_generation_steps=128, echo=True)\n",
    "\n",
    "for t in out.text:\n",
    "  print(t)\n",
    "  print(\"*\" * 30)"
   ]
  },
  {
   "cell_type": "code",
   "execution_count": null,
   "id": "0b262af8",
   "metadata": {},
   "outputs": [],
   "source": [
    "import functools\n",
    "import humanize\n",
    "def show_hbm_usage():\n",
    "  \"\"\"Displays memory usage per device.\"\"\"\n",
    "  fmt_size = functools.partial(humanize.naturalsize, binary=True)\n",
    "\n",
    "  for d in jax.local_devices():\n",
    "    stats = d.memory_stats()\n",
    "    used = stats[\"bytes_in_use\"]\n",
    "    limit = stats[\"bytes_limit\"]\n",
    "    print(f\"Using {fmt_size(used)} / {fmt_size(limit)} ({used/limit:%}) on {d}\")"
   ]
  },
  {
   "cell_type": "code",
   "execution_count": 16,
   "id": "ca4a4bef",
   "metadata": {},
   "outputs": [
    {
     "name": "stdout",
     "output_type": "stream",
     "text": [
      "Using 1.5 GiB / 7.5 GiB (19.534145%) on TPU_0(process=0,(0,0,0,0))\n",
      "Using 16.0 KiB / 7.5 GiB (0.000204%) on TPU_1(process=0,(0,0,0,1))\n",
      "Using 16.0 KiB / 7.5 GiB (0.000204%) on TPU_2(process=0,(1,0,0,0))\n",
      "Using 16.0 KiB / 7.5 GiB (0.000204%) on TPU_3(process=0,(1,0,0,1))\n",
      "Using 16.0 KiB / 7.5 GiB (0.000204%) on TPU_4(process=0,(0,1,0,0))\n",
      "Using 16.0 KiB / 7.5 GiB (0.000204%) on TPU_5(process=0,(0,1,0,1))\n",
      "Using 16.0 KiB / 7.5 GiB (0.000204%) on TPU_6(process=0,(1,1,0,0))\n",
      "Using 16.0 KiB / 7.5 GiB (0.000204%) on TPU_7(process=0,(1,1,0,1))\n"
     ]
    }
   ],
   "source": [
    "show_hbm_usage()"
   ]
  },
  {
   "cell_type": "markdown",
   "id": "939849bb",
   "metadata": {},
   "source": [
    "## Apply LoRA/QLoRA to the model"
   ]
  },
  {
   "cell_type": "code",
   "execution_count": 14,
   "id": "bcb0f42a",
   "metadata": {},
   "outputs": [],
   "source": [
    "import qwix\n",
    "def get_lora_model(base_model, mesh):\n",
    "  lora_provider = qwix.LoraProvider(\n",
    "      module_path=\".*q_einsum|.*kv_einsum|.*gate_proj|.*down_proj|.*up_proj\",\n",
    "      rank=RANK,\n",
    "      alpha=ALPHA,\n",
    "      # comment the two args below for LoRA (w/o quantisation).\n",
    "      weight_qtype=\"nf4\",\n",
    "      tile_size=256,\n",
    "  )\n",
    "\n",
    "  model_input = base_model.get_model_input()\n",
    "  lora_model = qwix.apply_lora_to_model(\n",
    "      base_model, lora_provider, **model_input\n",
    "  )\n",
    "\n",
    "  with mesh:\n",
    "    state = nnx.state(lora_model)\n",
    "    pspecs = nnx.get_partition_spec(state)\n",
    "    sharded_state = jax.lax.with_sharding_constraint(state, pspecs)\n",
    "    nnx.update(lora_model, sharded_state)\n",
    "\n",
    "  return lora_model"
   ]
  },
  {
   "cell_type": "code",
   "execution_count": 15,
   "id": "449f2ae5",
   "metadata": {},
   "outputs": [
    {
     "data": {
      "text/html": [
       "<script> (()=>{ if (customElements.get('treescope-container') === undefined) { class TreescopeContainer extends HTMLElement { constructor() { super(); this.attachShadow({mode: \"open\"}); this.defns = {}; this.state = {}; } } customElements.define(\"treescope-container\", TreescopeContainer); } if (customElements.get('treescope-run-here') === undefined) { class RunHere extends HTMLElement { constructor() { super() } connectedCallback() { const run = child => { const fn = new Function(child.textContent); child.textContent = \"\"; fn.call(this); this.remove(); }; const child = this.querySelector(\"script\"); if (child) { run(child); } else { new MutationObserver(()=>{ run(this.querySelector(\"script\")); }).observe(this, {childList: true}); } } } customElements.define(\"treescope-run-here\", RunHere); } })(); </script> <treescope-container class=\"treescope_out_d8f315f3f7de4a49bdfc4e73c412d905\" style=\"display:block\"></treescope-container> <treescope-run-here><script type=\"application/octet-stream\"> const root = ( Array.from(document.getElementsByClassName( \"treescope_out_d8f315f3f7de4a49bdfc4e73c412d905\")) .filter((elt) => !elt.dataset.setup) )[0]; root.dataset.setup = 1; const msg = document.createElement(\"span\"); msg.style = \"color: #cccccc; font-family: monospace;\"; msg.textContent = \"(Loading...)\"; root.state.loadingMsg = msg; root.shadowRoot.appendChild(msg); root.state.chain = new Promise((resolve, reject) => { const observer = new IntersectionObserver((entries) => { for (const entry of entries) { if (entry.isIntersecting) { resolve(); observer.disconnect(); return; } } }, {rootMargin: \"1000px\"}); window.setTimeout(() => { observer.observe(root); }, 0); }); root.state.deferring = false; const _insertNode = (node) => { for (let oldScript of node.querySelectorAll(\"script\")) { let newScript = document.createElement(\"script\"); newScript.type = oldScript.type; newScript.textContent = oldScript.textContent; oldScript.parentNode.replaceChild(newScript, oldScript); } if (root.state.loadingMsg) { root.state.loadingMsg.remove(); root.state.loadingMsg = null; } root.shadowRoot.appendChild(node); }; root.defns.insertContent = ((contentNode, compressed) => { if (compressed) { root.state.deferring = true; } if (root.state.deferring) { root.state.chain = (async () => { await root.state.chain; if (compressed) { const encoded = contentNode.textContent; const blob = new Blob([ Uint8Array.from(atob(encoded), (m) => m.codePointAt(0)) ]); const reader = blob.stream().pipeThrough( new DecompressionStream(\"deflate\") ).pipeThrough( new TextDecoderStream(\"utf-8\") ).getReader(); const parts = []; while (true) { const step = await reader.read(); if (step.done) { break; } parts.push(step.value); } const tpl = document.createElement('template'); tpl.innerHTML = parts.join(\"\"); _insertNode(tpl.content); } else { _insertNode(contentNode.content); } })(); } else { _insertNode(contentNode.content); } }); </script></treescope-run-here><div style=\"display:none\"> <script type=\"application/octet-stream\" >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</script> <treescope-run-here><script type=\"application/octet-stream\"> const root = ( Array.from(document.getElementsByClassName( \"treescope_out_d8f315f3f7de4a49bdfc4e73c412d905\")) .filter((elt) => !elt.dataset['step0']) )[0]; root.dataset['step0'] = 1; root.defns.insertContent( this.parentNode.querySelector('script[type=\"application/octet-stream\"]'), true ); this.parentNode.remove(); </script></treescope-run-here> </div>"
      ],
      "text/plain": [
       "<IPython.core.display.HTML object>"
      ]
     },
     "metadata": {},
     "output_type": "display_data"
    },
    {
     "data": {
      "text/html": [
       "<div style=\"display:none\"> <script type=\"application/octet-stream\" >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</script> <treescope-run-here><script type=\"application/octet-stream\"> const root = ( Array.from(document.getElementsByClassName( \"treescope_out_d8f315f3f7de4a49bdfc4e73c412d905\")) .filter((elt) => !elt.dataset['step1']) )[0]; root.dataset['step1'] = 1; root.defns.insertContent( this.parentNode.querySelector('script[type=\"application/octet-stream\"]'), true ); this.parentNode.remove(); </script></treescope-run-here> </div>"
      ],
      "text/plain": [
       "<IPython.core.display.HTML object>"
      ]
     },
     "metadata": {},
     "output_type": "display_data"
    }
   ],
   "source": [
    "# LoRA model\n",
    "lora_qwen3 = get_lora_model(qwen3, mesh=mesh)\n",
    "nnx.display(lora_qwen3)"
   ]
  },
  {
   "cell_type": "markdown",
   "id": "dae90bc3",
   "metadata": {},
   "source": [
    "## Load Datasets for SFT Training"
   ]
  },
  {
   "cell_type": "code",
   "execution_count": 16,
   "id": "927a1361",
   "metadata": {},
   "outputs": [
    {
     "ename": "ModuleNotFoundError",
     "evalue": "No module named 'tensorflow_datasets'",
     "output_type": "error",
     "traceback": [
      "\u001b[31m---------------------------------------------------------------------------\u001b[39m",
      "\u001b[31mModuleNotFoundError\u001b[39m                       Traceback (most recent call last)",
      "\u001b[36mCell\u001b[39m\u001b[36m \u001b[39m\u001b[32mIn[16]\u001b[39m\u001b[32m, line 3\u001b[39m\n\u001b[32m      1\u001b[39m \u001b[38;5;66;03m# Loads the training and validation datasets\u001b[39;00m\n\u001b[32m----> \u001b[39m\u001b[32m3\u001b[39m \u001b[38;5;28;01mfrom\u001b[39;00m\u001b[38;5;250m \u001b[39m\u001b[34;01mtunix\u001b[39;00m\u001b[34;01m.\u001b[39;00m\u001b[34;01mexamples\u001b[39;00m\u001b[34;01m.\u001b[39;00m\u001b[34;01mdata\u001b[39;00m\u001b[38;5;250m \u001b[39m\u001b[38;5;28;01mimport\u001b[39;00m translation_dataset \u001b[38;5;28;01mas\u001b[39;00m data_lib\n\u001b[32m      4\u001b[39m \u001b[38;5;28;01mfrom\u001b[39;00m\u001b[38;5;250m \u001b[39m\u001b[34;01mtunix\u001b[39;00m\u001b[34;01m.\u001b[39;00m\u001b[34;01mrl\u001b[39;00m\u001b[38;5;250m \u001b[39m\u001b[38;5;28;01mimport\u001b[39;00m common\n\u001b[32m      5\u001b[39m \u001b[38;5;28;01mfrom\u001b[39;00m\u001b[38;5;250m \u001b[39m\u001b[34;01mtunix\u001b[39;00m\u001b[34;01m.\u001b[39;00m\u001b[34;01msft\u001b[39;00m\u001b[38;5;250m \u001b[39m\u001b[38;5;28;01mimport\u001b[39;00m peft_trainer\n",
      "\u001b[36mFile \u001b[39m\u001b[32m~/miniconda3/envs/qwen/lib/python3.12/site-packages/tunix/examples/data/translation_dataset.py:24\u001b[39m\n\u001b[32m     22\u001b[39m \u001b[38;5;28;01mfrom\u001b[39;00m\u001b[38;5;250m \u001b[39m\u001b[34;01mgrain\u001b[39;00m\u001b[38;5;250m \u001b[39m\u001b[38;5;28;01mimport\u001b[39;00m python \u001b[38;5;28;01mas\u001b[39;00m grain\n\u001b[32m     23\u001b[39m \u001b[38;5;28;01mimport\u001b[39;00m\u001b[38;5;250m \u001b[39m\u001b[34;01mnumpy\u001b[39;00m\u001b[38;5;250m \u001b[39m\u001b[38;5;28;01mas\u001b[39;00m\u001b[38;5;250m \u001b[39m\u001b[34;01mnp\u001b[39;00m\n\u001b[32m---> \u001b[39m\u001b[32m24\u001b[39m \u001b[38;5;28;01mimport\u001b[39;00m\u001b[38;5;250m \u001b[39m\u001b[34;01mtensorflow_datasets\u001b[39;00m\u001b[38;5;250m \u001b[39m\u001b[38;5;28;01mas\u001b[39;00m\u001b[38;5;250m \u001b[39m\u001b[34;01mtfds\u001b[39;00m\n\u001b[32m     25\u001b[39m \u001b[38;5;28;01mimport\u001b[39;00m\u001b[38;5;250m \u001b[39m\u001b[34;01mtransformers\u001b[39;00m\n\u001b[32m     26\u001b[39m \u001b[38;5;28;01mfrom\u001b[39;00m\u001b[38;5;250m \u001b[39m\u001b[34;01mtunix\u001b[39;00m\u001b[34;01m.\u001b[39;00m\u001b[34;01mgenerate\u001b[39;00m\u001b[38;5;250m \u001b[39m\u001b[38;5;28;01mimport\u001b[39;00m tokenizer_adapter\n",
      "\u001b[31mModuleNotFoundError\u001b[39m: No module named 'tensorflow_datasets'"
     ]
    }
   ],
   "source": [
    "# Loads the training and validation datasets\n",
    "\n",
    "from tunix.examples.data import translation_dataset as data_lib\n",
    "from tunix.rl import common\n",
    "from tunix.sft import peft_trainer\n",
    "\n",
    "train_ds, validation_ds = data_lib.create_datasets(\n",
    "    dataset_name='mtnt/en-fr',\n",
    "    # Uncomment the line below to use a Hugging Face dataset.\n",
    "    # Note that this requires upgrading the 'datasets' package and restarting\n",
    "    # the Colab runtime.\n",
    "    # dataset_name='Helsinki-NLP/opus-100',\n",
    "    global_batch_size=BATCH_SIZE,\n",
    "    max_target_length=256,\n",
    "    num_train_epochs=NUM_EPOCHS,\n",
    "    tokenizer=tokenizer,\n",
    ")\n",
    "\n",
    "\n",
    "def gen_model_input_fn(x: peft_trainer.TrainingInput):\n",
    "  pad_mask = x.input_tokens != tokenizer.pad_id()\n",
    "  positions = common.build_positions_from_mask(pad_mask)\n",
    "  attention_mask = common.make_causal_attn_mask(pad_mask)\n",
    "  return {\n",
    "      'input_tokens': x.input_tokens,\n",
    "      'input_mask': x.input_mask,\n",
    "      'positions': positions,\n",
    "      'attention_mask': attention_mask,\n",
    "  }"
   ]
  },
  {
   "cell_type": "markdown",
   "id": "63df7f39",
   "metadata": {},
   "source": [
    "## SFT Training"
   ]
  },
  {
   "cell_type": "code",
   "execution_count": null,
   "id": "4a45d5f7",
   "metadata": {},
   "outputs": [],
   "source": [
    "from tunix.sft import metrics_logger\n",
    "\n",
    "import optax\n",
    "\n",
    "logging_option = metrics_logger.MetricsLoggerOptions(\n",
    "    log_dir=\"/tmp/tensorboard/full\", flush_every_n_steps=20\n",
    ")\n",
    "training_config = peft_trainer.TrainingConfig(\n",
    "    eval_every_n_steps=EVAL_EVERY_N_STEPS,\n",
    "    max_steps=MAX_STEPS,\n",
    "    metrics_logging_options=logging_option,\n",
    ")\n",
    "trainer = peft_trainer.PeftTrainer(qwen3, optax.adamw(1e-5), training_config)\n",
    "trainer = trainer.with_gen_model_input_fn(gen_model_input_fn)\n",
    "\n",
    "with jax.profiler.trace(os.path.join(PROFILING_DIR, \"full_training\")):\n",
    "  with mesh:\n",
    "    trainer.train(train_ds, validation_ds)"
   ]
  },
  {
   "cell_type": "markdown",
   "id": "36401482",
   "metadata": {},
   "source": [
    "### Training with LoRA/QLoRA"
   ]
  },
  {
   "cell_type": "code",
   "execution_count": null,
   "id": "09b88f15",
   "metadata": {},
   "outputs": [],
   "source": [
    "# Since LoRA model is sharing backbone with base model,\n",
    "# restart Colab runtime so base model is loaded as pre-trained.\n",
    "\n",
    "training_config = peft_trainer.TrainingConfig(\n",
    "    eval_every_n_steps=EVAL_EVERY_N_STEPS,\n",
    "    max_steps=MAX_STEPS,\n",
    "    checkpoint_root_directory=CKPT_DIR,\n",
    ")\n",
    "lora_trainer = peft_trainer.PeftTrainer(\n",
    "    lora_gemma, optax.adamw(1e-3), training_config\n",
    ").with_gen_model_input_fn(gen_model_input_fn)\n",
    "\n",
    "with jax.profiler.trace(os.path.join(PROFILING_DIR, \"peft\")):\n",
    "  with mesh:\n",
    "    lora_trainer.train(train_ds, validation_ds)"
   ]
  },
  {
   "cell_type": "markdown",
   "id": "9cfef94e",
   "metadata": {},
   "source": [
    "## Generate with the LoRA/QLoRA model"
   ]
  },
  {
   "cell_type": "code",
   "execution_count": null,
   "id": "06b4a2da",
   "metadata": {},
   "outputs": [],
   "source": [
    "from tunix.generate import sampler\n",
    "\n",
    "inputs = templatize([\n",
    "    \"which is larger 9.9 or 9.11?\",\n",
    "    \"如何制作月饼?\",\n",
    "    \"tell me your name, respond in Chinese\",\n",
    "])\n",
    "\n",
    "sampler = sampler.Sampler(\n",
    "    lora_qwen3,\n",
    "    tokenizer,\n",
    "    sampler.CacheConfig(\n",
    "        cache_size=256, num_layers=28, num_kv_heads=8, head_dim=128\n",
    "    ),\n",
    ")\n",
    "out = sampler(inputs, max_generation_steps=128, echo=True)\n",
    "\n",
    "for t in out.text:\n",
    "  print(t)\n",
    "  print(\"*\" * 30)"
   ]
  }
 ],
 "metadata": {
  "kernelspec": {
   "display_name": "qwen",
   "language": "python",
   "name": "python3"
  },
  "language_info": {
   "codemirror_mode": {
    "name": "ipython",
    "version": 3
   },
   "file_extension": ".py",
   "mimetype": "text/x-python",
   "name": "python",
   "nbconvert_exporter": "python",
   "pygments_lexer": "ipython3",
   "version": "3.12.11"
  }
 },
 "nbformat": 4,
 "nbformat_minor": 5
}
